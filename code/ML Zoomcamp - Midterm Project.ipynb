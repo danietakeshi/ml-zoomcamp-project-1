{
 "cells": [
  {
   "cell_type": "code",
   "execution_count": 59,
   "metadata": {},
   "outputs": [],
   "source": [
    "import pandas as pd\n",
    "import numpy as np"
   ]
  },
  {
   "cell_type": "markdown",
   "metadata": {},
   "source": [
    "## Preaparing the Data\n",
    "\n",
    "- Downloading the data\n",
    "- Adjusting the column names"
   ]
  },
  {
   "cell_type": "code",
   "execution_count": 161,
   "metadata": {},
   "outputs": [
    {
     "name": "stderr",
     "output_type": "stream",
     "text": [
      "--2023-11-03 12:15:00--  https://github.com/danietakeshi/ml-zoomcamp-project-1/blob/main/data/CrabAgePrediction.csv\n",
      "Resolving github.com (github.com)... 140.82.113.3\n",
      "Connecting to github.com (github.com)|140.82.113.3|:443... connected.\n",
      "HTTP request sent, awaiting response... 200 OK\n",
      "Length: 333859 (326K) [text/plain]\n",
      "Saving to: 'CrabAgePrediction.csv'\n",
      "\n",
      "     0K .......... .......... .......... .......... .......... 15%  175K 2s\n",
      "    50K .......... .......... .......... .......... .......... 30%  350K 1s\n",
      "   100K .......... .......... .......... .......... .......... 46% 12,5M 1s\n",
      "   150K .......... .......... .......... .......... .......... 61%  363K 0s\n",
      "   200K .......... .......... .......... .......... .......... 76% 8,35M 0s\n",
      "   250K .......... .......... .......... .......... .......... 92% 21,1M 0s\n",
      "   300K .......... .......... ......                          100%  121M=0,6s\n",
      "\n",
      "2023-11-03 12:15:02 (563 KB/s) - 'CrabAgePrediction.csv' saved [333859/333859]\n",
      "\n"
     ]
    }
   ],
   "source": [
    "!wget https://github.com/danietakeshi/ml-zoomcamp-project-1/blob/main/data/CrabAgePrediction.csv"
   ]
  },
  {
   "cell_type": "code",
   "execution_count": 162,
   "metadata": {},
   "outputs": [],
   "source": [
    "df = pd.read_csv('CrabAgePrediction.csv')"
   ]
  },
  {
   "cell_type": "code",
   "execution_count": 61,
   "metadata": {},
   "outputs": [
    {
     "data": {
      "text/html": [
       "<div>\n",
       "<style scoped>\n",
       "    .dataframe tbody tr th:only-of-type {\n",
       "        vertical-align: middle;\n",
       "    }\n",
       "\n",
       "    .dataframe tbody tr th {\n",
       "        vertical-align: top;\n",
       "    }\n",
       "\n",
       "    .dataframe thead th {\n",
       "        text-align: right;\n",
       "    }\n",
       "</style>\n",
       "<table border=\"1\" class=\"dataframe\">\n",
       "  <thead>\n",
       "    <tr style=\"text-align: right;\">\n",
       "      <th></th>\n",
       "      <th>Sex</th>\n",
       "      <th>Length</th>\n",
       "      <th>Diameter</th>\n",
       "      <th>Height</th>\n",
       "      <th>Weight</th>\n",
       "      <th>Shucked Weight</th>\n",
       "      <th>Viscera Weight</th>\n",
       "      <th>Shell Weight</th>\n",
       "      <th>Age</th>\n",
       "    </tr>\n",
       "  </thead>\n",
       "  <tbody>\n",
       "    <tr>\n",
       "      <th>0</th>\n",
       "      <td>F</td>\n",
       "      <td>1.4375</td>\n",
       "      <td>1.1750</td>\n",
       "      <td>0.4125</td>\n",
       "      <td>24.635715</td>\n",
       "      <td>12.332033</td>\n",
       "      <td>5.584852</td>\n",
       "      <td>6.747181</td>\n",
       "      <td>9</td>\n",
       "    </tr>\n",
       "    <tr>\n",
       "      <th>1</th>\n",
       "      <td>M</td>\n",
       "      <td>0.8875</td>\n",
       "      <td>0.6500</td>\n",
       "      <td>0.2125</td>\n",
       "      <td>5.400580</td>\n",
       "      <td>2.296310</td>\n",
       "      <td>1.374951</td>\n",
       "      <td>1.559222</td>\n",
       "      <td>6</td>\n",
       "    </tr>\n",
       "    <tr>\n",
       "      <th>2</th>\n",
       "      <td>I</td>\n",
       "      <td>1.0375</td>\n",
       "      <td>0.7750</td>\n",
       "      <td>0.2500</td>\n",
       "      <td>7.952035</td>\n",
       "      <td>3.231843</td>\n",
       "      <td>1.601747</td>\n",
       "      <td>2.764076</td>\n",
       "      <td>6</td>\n",
       "    </tr>\n",
       "    <tr>\n",
       "      <th>3</th>\n",
       "      <td>F</td>\n",
       "      <td>1.1750</td>\n",
       "      <td>0.8875</td>\n",
       "      <td>0.2500</td>\n",
       "      <td>13.480187</td>\n",
       "      <td>4.748541</td>\n",
       "      <td>2.282135</td>\n",
       "      <td>5.244657</td>\n",
       "      <td>10</td>\n",
       "    </tr>\n",
       "    <tr>\n",
       "      <th>4</th>\n",
       "      <td>I</td>\n",
       "      <td>0.8875</td>\n",
       "      <td>0.6625</td>\n",
       "      <td>0.2125</td>\n",
       "      <td>6.903103</td>\n",
       "      <td>3.458639</td>\n",
       "      <td>1.488349</td>\n",
       "      <td>1.700970</td>\n",
       "      <td>6</td>\n",
       "    </tr>\n",
       "  </tbody>\n",
       "</table>\n",
       "</div>"
      ],
      "text/plain": [
       "  Sex  Length  Diameter  Height     Weight  Shucked Weight  Viscera Weight  \\\n",
       "0   F  1.4375    1.1750  0.4125  24.635715       12.332033        5.584852   \n",
       "1   M  0.8875    0.6500  0.2125   5.400580        2.296310        1.374951   \n",
       "2   I  1.0375    0.7750  0.2500   7.952035        3.231843        1.601747   \n",
       "3   F  1.1750    0.8875  0.2500  13.480187        4.748541        2.282135   \n",
       "4   I  0.8875    0.6625  0.2125   6.903103        3.458639        1.488349   \n",
       "\n",
       "   Shell Weight  Age  \n",
       "0      6.747181    9  \n",
       "1      1.559222    6  \n",
       "2      2.764076    6  \n",
       "3      5.244657   10  \n",
       "4      1.700970    6  "
      ]
     },
     "execution_count": 61,
     "metadata": {},
     "output_type": "execute_result"
    }
   ],
   "source": [
    "df.head()"
   ]
  },
  {
   "cell_type": "code",
   "execution_count": 62,
   "metadata": {},
   "outputs": [],
   "source": [
    "df.columns = df.columns.str.lower().str.replace(' ', '_')"
   ]
  },
  {
   "cell_type": "markdown",
   "metadata": {},
   "source": [
    "## Exploratory data analysis (EDA)\n",
    "\n",
    "- Checking for null values\n",
    "- Getting number of unique values per column"
   ]
  },
  {
   "cell_type": "code",
   "execution_count": 63,
   "metadata": {},
   "outputs": [
    {
     "data": {
      "text/plain": [
       "sex               0\n",
       "length            0\n",
       "diameter          0\n",
       "height            0\n",
       "weight            0\n",
       "shucked_weight    0\n",
       "viscera_weight    0\n",
       "shell_weight      0\n",
       "age               0\n",
       "dtype: int64"
      ]
     },
     "execution_count": 63,
     "metadata": {},
     "output_type": "execute_result"
    }
   ],
   "source": [
    "df.isnull().sum()"
   ]
  },
  {
   "cell_type": "code",
   "execution_count": 64,
   "metadata": {},
   "outputs": [
    {
     "data": {
      "text/plain": [
       "sex                  3\n",
       "length             134\n",
       "diameter           111\n",
       "height              51\n",
       "weight            2343\n",
       "shucked_weight    1482\n",
       "viscera_weight     867\n",
       "shell_weight       907\n",
       "age                 28\n",
       "dtype: int64"
      ]
     },
     "execution_count": 64,
     "metadata": {},
     "output_type": "execute_result"
    }
   ],
   "source": [
    "df.nunique()"
   ]
  },
  {
   "cell_type": "code",
   "execution_count": 65,
   "metadata": {},
   "outputs": [
    {
     "data": {
      "text/html": [
       "<div>\n",
       "<style scoped>\n",
       "    .dataframe tbody tr th:only-of-type {\n",
       "        vertical-align: middle;\n",
       "    }\n",
       "\n",
       "    .dataframe tbody tr th {\n",
       "        vertical-align: top;\n",
       "    }\n",
       "\n",
       "    .dataframe thead th {\n",
       "        text-align: right;\n",
       "    }\n",
       "</style>\n",
       "<table border=\"1\" class=\"dataframe\">\n",
       "  <thead>\n",
       "    <tr style=\"text-align: right;\">\n",
       "      <th></th>\n",
       "      <th>length</th>\n",
       "      <th>diameter</th>\n",
       "      <th>height</th>\n",
       "      <th>weight</th>\n",
       "      <th>shucked_weight</th>\n",
       "      <th>viscera_weight</th>\n",
       "      <th>shell_weight</th>\n",
       "      <th>age</th>\n",
       "    </tr>\n",
       "  </thead>\n",
       "  <tbody>\n",
       "    <tr>\n",
       "      <th>count</th>\n",
       "      <td>3893.000000</td>\n",
       "      <td>3893.000000</td>\n",
       "      <td>3893.000000</td>\n",
       "      <td>3893.000000</td>\n",
       "      <td>3893.000000</td>\n",
       "      <td>3893.000000</td>\n",
       "      <td>3893.000000</td>\n",
       "      <td>3893.000000</td>\n",
       "    </tr>\n",
       "    <tr>\n",
       "      <th>mean</th>\n",
       "      <td>1.311306</td>\n",
       "      <td>1.020893</td>\n",
       "      <td>0.349374</td>\n",
       "      <td>23.567275</td>\n",
       "      <td>10.207342</td>\n",
       "      <td>5.136546</td>\n",
       "      <td>6.795844</td>\n",
       "      <td>9.954791</td>\n",
       "    </tr>\n",
       "    <tr>\n",
       "      <th>std</th>\n",
       "      <td>0.300431</td>\n",
       "      <td>0.248233</td>\n",
       "      <td>0.104976</td>\n",
       "      <td>13.891201</td>\n",
       "      <td>6.275275</td>\n",
       "      <td>3.104133</td>\n",
       "      <td>3.943392</td>\n",
       "      <td>3.220967</td>\n",
       "    </tr>\n",
       "    <tr>\n",
       "      <th>min</th>\n",
       "      <td>0.187500</td>\n",
       "      <td>0.137500</td>\n",
       "      <td>0.000000</td>\n",
       "      <td>0.056699</td>\n",
       "      <td>0.028349</td>\n",
       "      <td>0.014175</td>\n",
       "      <td>0.042524</td>\n",
       "      <td>1.000000</td>\n",
       "    </tr>\n",
       "    <tr>\n",
       "      <th>25%</th>\n",
       "      <td>1.125000</td>\n",
       "      <td>0.875000</td>\n",
       "      <td>0.287500</td>\n",
       "      <td>12.672227</td>\n",
       "      <td>5.343881</td>\n",
       "      <td>2.664853</td>\n",
       "      <td>3.713785</td>\n",
       "      <td>8.000000</td>\n",
       "    </tr>\n",
       "    <tr>\n",
       "      <th>50%</th>\n",
       "      <td>1.362500</td>\n",
       "      <td>1.062500</td>\n",
       "      <td>0.362500</td>\n",
       "      <td>22.792998</td>\n",
       "      <td>9.539607</td>\n",
       "      <td>4.861939</td>\n",
       "      <td>6.662133</td>\n",
       "      <td>10.000000</td>\n",
       "    </tr>\n",
       "    <tr>\n",
       "      <th>75%</th>\n",
       "      <td>1.537500</td>\n",
       "      <td>1.200000</td>\n",
       "      <td>0.412500</td>\n",
       "      <td>32.786197</td>\n",
       "      <td>14.273973</td>\n",
       "      <td>7.200773</td>\n",
       "      <td>9.355335</td>\n",
       "      <td>11.000000</td>\n",
       "    </tr>\n",
       "    <tr>\n",
       "      <th>max</th>\n",
       "      <td>2.037500</td>\n",
       "      <td>1.625000</td>\n",
       "      <td>2.825000</td>\n",
       "      <td>80.101512</td>\n",
       "      <td>42.184056</td>\n",
       "      <td>21.545620</td>\n",
       "      <td>28.491248</td>\n",
       "      <td>29.000000</td>\n",
       "    </tr>\n",
       "  </tbody>\n",
       "</table>\n",
       "</div>"
      ],
      "text/plain": [
       "            length     diameter       height       weight  shucked_weight  \\\n",
       "count  3893.000000  3893.000000  3893.000000  3893.000000     3893.000000   \n",
       "mean      1.311306     1.020893     0.349374    23.567275       10.207342   \n",
       "std       0.300431     0.248233     0.104976    13.891201        6.275275   \n",
       "min       0.187500     0.137500     0.000000     0.056699        0.028349   \n",
       "25%       1.125000     0.875000     0.287500    12.672227        5.343881   \n",
       "50%       1.362500     1.062500     0.362500    22.792998        9.539607   \n",
       "75%       1.537500     1.200000     0.412500    32.786197       14.273973   \n",
       "max       2.037500     1.625000     2.825000    80.101512       42.184056   \n",
       "\n",
       "       viscera_weight  shell_weight          age  \n",
       "count     3893.000000   3893.000000  3893.000000  \n",
       "mean         5.136546      6.795844     9.954791  \n",
       "std          3.104133      3.943392     3.220967  \n",
       "min          0.014175      0.042524     1.000000  \n",
       "25%          2.664853      3.713785     8.000000  \n",
       "50%          4.861939      6.662133    10.000000  \n",
       "75%          7.200773      9.355335    11.000000  \n",
       "max         21.545620     28.491248    29.000000  "
      ]
     },
     "execution_count": 65,
     "metadata": {},
     "output_type": "execute_result"
    }
   ],
   "source": [
    "df.describe()"
   ]
  },
  {
   "cell_type": "code",
   "execution_count": 66,
   "metadata": {},
   "outputs": [
    {
     "name": "stdout",
     "output_type": "stream",
     "text": [
      "sex\n",
      "['F' 'M' 'I']\n",
      "3\n",
      "\n",
      "length\n",
      "[1.4375 0.8875 1.0375 1.175  1.55  ]\n",
      "134\n",
      "\n",
      "diameter\n",
      "[1.175  0.65   0.775  0.8875 0.6625]\n",
      "111\n",
      "\n",
      "height\n",
      "[0.4125 0.2125 0.25   0.35   0.325 ]\n",
      "51\n",
      "\n",
      "weight\n",
      "[24.6357155   5.40057975  7.95203475 13.48018725  6.90310325]\n",
      "2343\n",
      "\n",
      "shucked_weight\n",
      "[12.3320325   2.2963095   3.231843    4.74854125  3.458639  ]\n",
      "1482\n",
      "\n",
      "viscera_weight\n",
      "[5.5848515  1.37495075 1.60174675 2.28213475 1.48834875]\n",
      "867\n",
      "\n",
      "shell_weight\n",
      "[6.747181   1.5592225  2.76407625 5.2446575  1.70097   ]\n",
      "907\n",
      "\n",
      "age\n",
      "[ 9  6 10  8 15]\n",
      "28\n",
      "\n"
     ]
    }
   ],
   "source": [
    "for col in df.columns:\n",
    "    print(col)\n",
    "    print(df[col].unique()[:5])  # Display the first 5 unique values\n",
    "    print(df[col].nunique())    # Display the number of unique values\n",
    "    print()"
   ]
  },
  {
   "cell_type": "markdown",
   "metadata": {},
   "source": [
    "- **sex**: Gender of the Crab - Male, Female and Indeterminate.\n",
    "- **length**: Length of the Crab (in Feet; 1 foot = 30.48 cms)\n",
    "- **diameter**: Diameter of the Crab (in Feet; 1 foot = 30.48 cms)\n",
    "- **height**: Height of the Crab (in Feet; 1 foot = 30.48 cms)\n",
    "- **weight**: Weight of the Crab (in ounces; 1 Pound = 16 ounces)\n",
    "- **shucked_weight**: Weight without the shell (in ounces; 1 Pound = 16 ounces)\n",
    "- **viscera_weight**: is weight that wraps around your abdominal organs deep inside body (in ounces; 1 Pound = 16 ounces)\n",
    "- **shell_weight**: Weight of the Shell (in ounces; 1 Pound = 16 ounces)\n",
    "- **age**: Age of the Crab (in months)"
   ]
  },
  {
   "cell_type": "code",
   "execution_count": 67,
   "metadata": {},
   "outputs": [],
   "source": [
    "import matplotlib.pyplot as plt\n",
    "import seaborn as sns\n",
    "%matplotlib inline"
   ]
  },
  {
   "cell_type": "code",
   "execution_count": 68,
   "metadata": {},
   "outputs": [
    {
     "data": {
      "text/plain": [
       "<AxesSubplot:xlabel='age', ylabel='Count'>"
      ]
     },
     "execution_count": 68,
     "metadata": {},
     "output_type": "execute_result"
    },
    {
     "data": {
      "image/png": "[encoded data removed]",
      "text/plain": [
       "<Figure size 432x288 with 1 Axes>"
      ]
     },
     "metadata": {
      "needs_background": "light"
     },
     "output_type": "display_data"
    }
   ],
   "source": [
    "sns.histplot(df.age, bins=20)"
   ]
  },
  {
   "cell_type": "code",
   "execution_count": 69,
   "metadata": {},
   "outputs": [
    {
     "data": {
      "image/png": "[encoded data removed]",
      "text/plain": [
       "<Figure size 432x432 with 3 Axes>"
      ]
     },
     "metadata": {},
     "output_type": "display_data"
    }
   ],
   "source": [
    "with sns.axes_style('white'):\n",
    "    g = sns.jointplot(x=\"age\", y=\"length\", data=df, kind='hex')"
   ]
  },
  {
   "cell_type": "code",
   "execution_count": 70,
   "metadata": {},
   "outputs": [
    {
     "data": {
      "image/png": "[encoded data removed]",
      "text/plain": [
       "<Figure size 432x432 with 3 Axes>"
      ]
     },
     "metadata": {},
     "output_type": "display_data"
    }
   ],
   "source": [
    "with sns.axes_style('white'):\n",
    "    g = sns.jointplot(x=\"age\", y=\"weight\", data=df, kind='hex');"
   ]
  },
  {
   "cell_type": "code",
   "execution_count": 71,
   "metadata": {},
   "outputs": [
    {
     "data": {
      "image/png": "[encoded data removed]",
      "text/plain": [
       "<Figure size 432x432 with 3 Axes>"
      ]
     },
     "metadata": {},
     "output_type": "display_data"
    }
   ],
   "source": [
    "with sns.axes_style('white'):\n",
    "    g = sns.jointplot(x=\"age\", y=\"diameter\", data=df, kind='hex')"
   ]
  },
  {
   "cell_type": "code",
   "execution_count": 72,
   "metadata": {},
   "outputs": [
    {
     "data": {
      "text/plain": [
       "<AxesSubplot:xlabel='age'>"
      ]
     },
     "execution_count": 72,
     "metadata": {},
     "output_type": "execute_result"
    },
    {
     "data": {
      "image/png": "[encoded data removed]",
      "text/plain": [
       "<Figure size 432x288 with 1 Axes>"
      ]
     },
     "metadata": {
      "needs_background": "light"
     },
     "output_type": "display_data"
    }
   ],
   "source": [
    "df.groupby(['age'])[['length']].mean().plot(legend=True)"
   ]
  },
  {
   "cell_type": "code",
   "execution_count": 73,
   "metadata": {},
   "outputs": [
    {
     "data": {
      "text/plain": [
       "<AxesSubplot:xlabel='age'>"
      ]
     },
     "execution_count": 73,
     "metadata": {},
     "output_type": "execute_result"
    },
    {
     "data": {
      "image/png": "[encoded data removed]",
      "text/plain": [
       "<Figure size 432x288 with 1 Axes>"
      ]
     },
     "metadata": {
      "needs_background": "light"
     },
     "output_type": "display_data"
    }
   ],
   "source": [
    "df.groupby(['age'])['weight'].mean().plot(legend=True)"
   ]
  },
  {
   "cell_type": "code",
   "execution_count": 74,
   "metadata": {},
   "outputs": [
    {
     "data": {
      "text/plain": [
       "<AxesSubplot:xlabel='age'>"
      ]
     },
     "execution_count": 74,
     "metadata": {},
     "output_type": "execute_result"
    },
    {
     "data": {
      "image/png": "[encoded data removed]",
      "text/plain": [
       "<Figure size 432x288 with 1 Axes>"
      ]
     },
     "metadata": {
      "needs_background": "light"
     },
     "output_type": "display_data"
    }
   ],
   "source": [
    "df.groupby(['age'])['diameter'].mean().plot(legend=True)"
   ]
  },
  {
   "cell_type": "code",
   "execution_count": 75,
   "metadata": {},
   "outputs": [
    {
     "data": {
      "text/html": [
       "<div>\n",
       "<style scoped>\n",
       "    .dataframe tbody tr th:only-of-type {\n",
       "        vertical-align: middle;\n",
       "    }\n",
       "\n",
       "    .dataframe tbody tr th {\n",
       "        vertical-align: top;\n",
       "    }\n",
       "\n",
       "    .dataframe thead th {\n",
       "        text-align: right;\n",
       "    }\n",
       "</style>\n",
       "<table border=\"1\" class=\"dataframe\">\n",
       "  <thead>\n",
       "    <tr style=\"text-align: right;\">\n",
       "      <th></th>\n",
       "      <th>length</th>\n",
       "      <th>weight</th>\n",
       "      <th>diameter</th>\n",
       "    </tr>\n",
       "    <tr>\n",
       "      <th>age</th>\n",
       "      <th></th>\n",
       "      <th></th>\n",
       "      <th></th>\n",
       "    </tr>\n",
       "  </thead>\n",
       "  <tbody>\n",
       "    <tr>\n",
       "      <th>1</th>\n",
       "      <td>0.187500</td>\n",
       "      <td>0.056699</td>\n",
       "      <td>0.137500</td>\n",
       "    </tr>\n",
       "    <tr>\n",
       "      <th>2</th>\n",
       "      <td>0.375000</td>\n",
       "      <td>0.425243</td>\n",
       "      <td>0.250000</td>\n",
       "    </tr>\n",
       "    <tr>\n",
       "      <th>3</th>\n",
       "      <td>0.441346</td>\n",
       "      <td>0.831949</td>\n",
       "      <td>0.324038</td>\n",
       "    </tr>\n",
       "    <tr>\n",
       "      <th>4</th>\n",
       "      <td>0.555896</td>\n",
       "      <td>1.707389</td>\n",
       "      <td>0.404953</td>\n",
       "    </tr>\n",
       "    <tr>\n",
       "      <th>5</th>\n",
       "      <td>0.710514</td>\n",
       "      <td>3.499574</td>\n",
       "      <td>0.525000</td>\n",
       "    </tr>\n",
       "    <tr>\n",
       "      <th>6</th>\n",
       "      <td>0.920954</td>\n",
       "      <td>7.724768</td>\n",
       "      <td>0.695176</td>\n",
       "    </tr>\n",
       "    <tr>\n",
       "      <th>7</th>\n",
       "      <td>1.052556</td>\n",
       "      <td>11.210639</td>\n",
       "      <td>0.802101</td>\n",
       "    </tr>\n",
       "    <tr>\n",
       "      <th>8</th>\n",
       "      <td>1.252668</td>\n",
       "      <td>18.431482</td>\n",
       "      <td>0.965865</td>\n",
       "    </tr>\n",
       "    <tr>\n",
       "      <th>9</th>\n",
       "      <td>1.365977</td>\n",
       "      <td>24.140153</td>\n",
       "      <td>1.061328</td>\n",
       "    </tr>\n",
       "    <tr>\n",
       "      <th>10</th>\n",
       "      <td>1.436518</td>\n",
       "      <td>28.593126</td>\n",
       "      <td>1.123328</td>\n",
       "    </tr>\n",
       "    <tr>\n",
       "      <th>11</th>\n",
       "      <td>1.496487</td>\n",
       "      <td>32.250366</td>\n",
       "      <td>1.175626</td>\n",
       "    </tr>\n",
       "    <tr>\n",
       "      <th>12</th>\n",
       "      <td>1.472732</td>\n",
       "      <td>31.110261</td>\n",
       "      <td>1.156300</td>\n",
       "    </tr>\n",
       "    <tr>\n",
       "      <th>13</th>\n",
       "      <td>1.443590</td>\n",
       "      <td>30.255313</td>\n",
       "      <td>1.138397</td>\n",
       "    </tr>\n",
       "    <tr>\n",
       "      <th>14</th>\n",
       "      <td>1.446414</td>\n",
       "      <td>30.247871</td>\n",
       "      <td>1.142623</td>\n",
       "    </tr>\n",
       "    <tr>\n",
       "      <th>15</th>\n",
       "      <td>1.440234</td>\n",
       "      <td>29.667013</td>\n",
       "      <td>1.141797</td>\n",
       "    </tr>\n",
       "    <tr>\n",
       "      <th>16</th>\n",
       "      <td>1.466331</td>\n",
       "      <td>32.379016</td>\n",
       "      <td>1.170565</td>\n",
       "    </tr>\n",
       "    <tr>\n",
       "      <th>17</th>\n",
       "      <td>1.508565</td>\n",
       "      <td>35.452887</td>\n",
       "      <td>1.191435</td>\n",
       "    </tr>\n",
       "    <tr>\n",
       "      <th>18</th>\n",
       "      <td>1.502961</td>\n",
       "      <td>34.472619</td>\n",
       "      <td>1.188816</td>\n",
       "    </tr>\n",
       "    <tr>\n",
       "      <th>19</th>\n",
       "      <td>1.493145</td>\n",
       "      <td>33.234759</td>\n",
       "      <td>1.179839</td>\n",
       "    </tr>\n",
       "    <tr>\n",
       "      <th>20</th>\n",
       "      <td>1.492391</td>\n",
       "      <td>34.429851</td>\n",
       "      <td>1.194022</td>\n",
       "    </tr>\n",
       "    <tr>\n",
       "      <th>21</th>\n",
       "      <td>1.545536</td>\n",
       "      <td>35.454087</td>\n",
       "      <td>1.213393</td>\n",
       "    </tr>\n",
       "    <tr>\n",
       "      <th>22</th>\n",
       "      <td>1.487500</td>\n",
       "      <td>34.621827</td>\n",
       "      <td>1.181250</td>\n",
       "    </tr>\n",
       "    <tr>\n",
       "      <th>23</th>\n",
       "      <td>1.482143</td>\n",
       "      <td>34.385919</td>\n",
       "      <td>1.180357</td>\n",
       "    </tr>\n",
       "    <tr>\n",
       "      <th>24</th>\n",
       "      <td>1.737500</td>\n",
       "      <td>50.993663</td>\n",
       "      <td>1.350000</td>\n",
       "    </tr>\n",
       "    <tr>\n",
       "      <th>25</th>\n",
       "      <td>1.612500</td>\n",
       "      <td>39.859397</td>\n",
       "      <td>1.225000</td>\n",
       "    </tr>\n",
       "    <tr>\n",
       "      <th>26</th>\n",
       "      <td>1.500000</td>\n",
       "      <td>29.979596</td>\n",
       "      <td>1.237500</td>\n",
       "    </tr>\n",
       "    <tr>\n",
       "      <th>27</th>\n",
       "      <td>1.518750</td>\n",
       "      <td>48.137451</td>\n",
       "      <td>1.250000</td>\n",
       "    </tr>\n",
       "    <tr>\n",
       "      <th>29</th>\n",
       "      <td>1.750000</td>\n",
       "      <td>51.241721</td>\n",
       "      <td>1.462500</td>\n",
       "    </tr>\n",
       "  </tbody>\n",
       "</table>\n",
       "</div>"
      ],
      "text/plain": [
       "       length     weight  diameter\n",
       "age                               \n",
       "1    0.187500   0.056699  0.137500\n",
       "2    0.375000   0.425243  0.250000\n",
       "3    0.441346   0.831949  0.324038\n",
       "4    0.555896   1.707389  0.404953\n",
       "5    0.710514   3.499574  0.525000\n",
       "6    0.920954   7.724768  0.695176\n",
       "7    1.052556  11.210639  0.802101\n",
       "8    1.252668  18.431482  0.965865\n",
       "9    1.365977  24.140153  1.061328\n",
       "10   1.436518  28.593126  1.123328\n",
       "11   1.496487  32.250366  1.175626\n",
       "12   1.472732  31.110261  1.156300\n",
       "13   1.443590  30.255313  1.138397\n",
       "14   1.446414  30.247871  1.142623\n",
       "15   1.440234  29.667013  1.141797\n",
       "16   1.466331  32.379016  1.170565\n",
       "17   1.508565  35.452887  1.191435\n",
       "18   1.502961  34.472619  1.188816\n",
       "19   1.493145  33.234759  1.179839\n",
       "20   1.492391  34.429851  1.194022\n",
       "21   1.545536  35.454087  1.213393\n",
       "22   1.487500  34.621827  1.181250\n",
       "23   1.482143  34.385919  1.180357\n",
       "24   1.737500  50.993663  1.350000\n",
       "25   1.612500  39.859397  1.225000\n",
       "26   1.500000  29.979596  1.237500\n",
       "27   1.518750  48.137451  1.250000\n",
       "29   1.750000  51.241721  1.462500"
      ]
     },
     "execution_count": 75,
     "metadata": {},
     "output_type": "execute_result"
    }
   ],
   "source": [
    "df.groupby(['age'])[['length', 'weight', 'diameter']].mean()"
   ]
  },
  {
   "cell_type": "code",
   "execution_count": 76,
   "metadata": {},
   "outputs": [],
   "source": [
    "df = df[df.height != 0]"
   ]
  },
  {
   "cell_type": "code",
   "execution_count": 77,
   "metadata": {},
   "outputs": [],
   "source": [
    "for column in ['length', 'diameter', 'height']:\n",
    "    df[column] = df[column] * 0.3048"
   ]
  },
  {
   "cell_type": "code",
   "execution_count": 78,
   "metadata": {},
   "outputs": [
    {
     "data": {
      "text/html": [
       "<div>\n",
       "<style scoped>\n",
       "    .dataframe tbody tr th:only-of-type {\n",
       "        vertical-align: middle;\n",
       "    }\n",
       "\n",
       "    .dataframe tbody tr th {\n",
       "        vertical-align: top;\n",
       "    }\n",
       "\n",
       "    .dataframe thead th {\n",
       "        text-align: right;\n",
       "    }\n",
       "</style>\n",
       "<table border=\"1\" class=\"dataframe\">\n",
       "  <thead>\n",
       "    <tr style=\"text-align: right;\">\n",
       "      <th></th>\n",
       "      <th>sex</th>\n",
       "      <th>length</th>\n",
       "      <th>diameter</th>\n",
       "      <th>height</th>\n",
       "      <th>weight</th>\n",
       "      <th>shucked_weight</th>\n",
       "      <th>viscera_weight</th>\n",
       "      <th>shell_weight</th>\n",
       "      <th>age</th>\n",
       "    </tr>\n",
       "  </thead>\n",
       "  <tbody>\n",
       "    <tr>\n",
       "      <th>0</th>\n",
       "      <td>F</td>\n",
       "      <td>0.43815</td>\n",
       "      <td>0.35814</td>\n",
       "      <td>0.12573</td>\n",
       "      <td>24.635715</td>\n",
       "      <td>12.332033</td>\n",
       "      <td>5.584852</td>\n",
       "      <td>6.747181</td>\n",
       "      <td>9</td>\n",
       "    </tr>\n",
       "    <tr>\n",
       "      <th>1</th>\n",
       "      <td>M</td>\n",
       "      <td>0.27051</td>\n",
       "      <td>0.19812</td>\n",
       "      <td>0.06477</td>\n",
       "      <td>5.400580</td>\n",
       "      <td>2.296310</td>\n",
       "      <td>1.374951</td>\n",
       "      <td>1.559222</td>\n",
       "      <td>6</td>\n",
       "    </tr>\n",
       "    <tr>\n",
       "      <th>2</th>\n",
       "      <td>I</td>\n",
       "      <td>0.31623</td>\n",
       "      <td>0.23622</td>\n",
       "      <td>0.07620</td>\n",
       "      <td>7.952035</td>\n",
       "      <td>3.231843</td>\n",
       "      <td>1.601747</td>\n",
       "      <td>2.764076</td>\n",
       "      <td>6</td>\n",
       "    </tr>\n",
       "    <tr>\n",
       "      <th>3</th>\n",
       "      <td>F</td>\n",
       "      <td>0.35814</td>\n",
       "      <td>0.27051</td>\n",
       "      <td>0.07620</td>\n",
       "      <td>13.480187</td>\n",
       "      <td>4.748541</td>\n",
       "      <td>2.282135</td>\n",
       "      <td>5.244657</td>\n",
       "      <td>10</td>\n",
       "    </tr>\n",
       "    <tr>\n",
       "      <th>4</th>\n",
       "      <td>I</td>\n",
       "      <td>0.27051</td>\n",
       "      <td>0.20193</td>\n",
       "      <td>0.06477</td>\n",
       "      <td>6.903103</td>\n",
       "      <td>3.458639</td>\n",
       "      <td>1.488349</td>\n",
       "      <td>1.700970</td>\n",
       "      <td>6</td>\n",
       "    </tr>\n",
       "  </tbody>\n",
       "</table>\n",
       "</div>"
      ],
      "text/plain": [
       "  sex   length  diameter   height     weight  shucked_weight  viscera_weight  \\\n",
       "0   F  0.43815   0.35814  0.12573  24.635715       12.332033        5.584852   \n",
       "1   M  0.27051   0.19812  0.06477   5.400580        2.296310        1.374951   \n",
       "2   I  0.31623   0.23622  0.07620   7.952035        3.231843        1.601747   \n",
       "3   F  0.35814   0.27051  0.07620  13.480187        4.748541        2.282135   \n",
       "4   I  0.27051   0.20193  0.06477   6.903103        3.458639        1.488349   \n",
       "\n",
       "   shell_weight  age  \n",
       "0      6.747181    9  \n",
       "1      1.559222    6  \n",
       "2      2.764076    6  \n",
       "3      5.244657   10  \n",
       "4      1.700970    6  "
      ]
     },
     "execution_count": 78,
     "metadata": {},
     "output_type": "execute_result"
    }
   ],
   "source": [
    "df.head()"
   ]
  },
  {
   "cell_type": "code",
   "execution_count": 79,
   "metadata": {},
   "outputs": [],
   "source": [
    "for column in ['weight', 'shucked_weight', 'viscera_weight', 'shell_weight']:\n",
    "    df[column] = df[column] / 35.274"
   ]
  },
  {
   "cell_type": "code",
   "execution_count": 80,
   "metadata": {},
   "outputs": [
    {
     "data": {
      "text/html": [
       "<div>\n",
       "<style scoped>\n",
       "    .dataframe tbody tr th:only-of-type {\n",
       "        vertical-align: middle;\n",
       "    }\n",
       "\n",
       "    .dataframe tbody tr th {\n",
       "        vertical-align: top;\n",
       "    }\n",
       "\n",
       "    .dataframe thead th {\n",
       "        text-align: right;\n",
       "    }\n",
       "</style>\n",
       "<table border=\"1\" class=\"dataframe\">\n",
       "  <thead>\n",
       "    <tr style=\"text-align: right;\">\n",
       "      <th></th>\n",
       "      <th>sex</th>\n",
       "      <th>length</th>\n",
       "      <th>diameter</th>\n",
       "      <th>height</th>\n",
       "      <th>weight</th>\n",
       "      <th>shucked_weight</th>\n",
       "      <th>viscera_weight</th>\n",
       "      <th>shell_weight</th>\n",
       "      <th>age</th>\n",
       "    </tr>\n",
       "  </thead>\n",
       "  <tbody>\n",
       "    <tr>\n",
       "      <th>0</th>\n",
       "      <td>F</td>\n",
       "      <td>0.43815</td>\n",
       "      <td>0.35814</td>\n",
       "      <td>0.12573</td>\n",
       "      <td>0.698410</td>\n",
       "      <td>0.349607</td>\n",
       "      <td>0.158328</td>\n",
       "      <td>0.191279</td>\n",
       "      <td>9</td>\n",
       "    </tr>\n",
       "    <tr>\n",
       "      <th>1</th>\n",
       "      <td>M</td>\n",
       "      <td>0.27051</td>\n",
       "      <td>0.19812</td>\n",
       "      <td>0.06477</td>\n",
       "      <td>0.153104</td>\n",
       "      <td>0.065099</td>\n",
       "      <td>0.038979</td>\n",
       "      <td>0.044203</td>\n",
       "      <td>6</td>\n",
       "    </tr>\n",
       "    <tr>\n",
       "      <th>2</th>\n",
       "      <td>I</td>\n",
       "      <td>0.31623</td>\n",
       "      <td>0.23622</td>\n",
       "      <td>0.07620</td>\n",
       "      <td>0.225436</td>\n",
       "      <td>0.091621</td>\n",
       "      <td>0.045409</td>\n",
       "      <td>0.078360</td>\n",
       "      <td>6</td>\n",
       "    </tr>\n",
       "    <tr>\n",
       "      <th>3</th>\n",
       "      <td>F</td>\n",
       "      <td>0.35814</td>\n",
       "      <td>0.27051</td>\n",
       "      <td>0.07620</td>\n",
       "      <td>0.382156</td>\n",
       "      <td>0.134619</td>\n",
       "      <td>0.064697</td>\n",
       "      <td>0.148683</td>\n",
       "      <td>10</td>\n",
       "    </tr>\n",
       "    <tr>\n",
       "      <th>4</th>\n",
       "      <td>I</td>\n",
       "      <td>0.27051</td>\n",
       "      <td>0.20193</td>\n",
       "      <td>0.06477</td>\n",
       "      <td>0.195699</td>\n",
       "      <td>0.098051</td>\n",
       "      <td>0.042194</td>\n",
       "      <td>0.048222</td>\n",
       "      <td>6</td>\n",
       "    </tr>\n",
       "  </tbody>\n",
       "</table>\n",
       "</div>"
      ],
      "text/plain": [
       "  sex   length  diameter   height    weight  shucked_weight  viscera_weight  \\\n",
       "0   F  0.43815   0.35814  0.12573  0.698410        0.349607        0.158328   \n",
       "1   M  0.27051   0.19812  0.06477  0.153104        0.065099        0.038979   \n",
       "2   I  0.31623   0.23622  0.07620  0.225436        0.091621        0.045409   \n",
       "3   F  0.35814   0.27051  0.07620  0.382156        0.134619        0.064697   \n",
       "4   I  0.27051   0.20193  0.06477  0.195699        0.098051        0.042194   \n",
       "\n",
       "   shell_weight  age  \n",
       "0      0.191279    9  \n",
       "1      0.044203    6  \n",
       "2      0.078360    6  \n",
       "3      0.148683   10  \n",
       "4      0.048222    6  "
      ]
     },
     "execution_count": 80,
     "metadata": {},
     "output_type": "execute_result"
    }
   ],
   "source": [
    "df.head()"
   ]
  },
  {
   "cell_type": "markdown",
   "metadata": {},
   "source": [
    "### Feature Engineering\n",
    "\n",
    "4 new features were created:\n",
    "\n",
    "1. BMI: Body Mass Index\n",
    "2. Density\n",
    "3. Height above Average\n",
    "4. Weight above average"
   ]
  },
  {
   "cell_type": "code",
   "execution_count": 81,
   "metadata": {},
   "outputs": [],
   "source": [
    "df['bmi'] = df.weight / df.height ** 2\n",
    "df['density'] = df.weight / (df.height * df.length * df.diameter)"
   ]
  },
  {
   "cell_type": "code",
   "execution_count": 82,
   "metadata": {},
   "outputs": [],
   "source": [
    "df['height_above_average'] = (df.height > df.height.mean()).astype(int)\n",
    "df['weight_above_average'] = (df.weight > df.weight.mean()).astype(int)"
   ]
  },
  {
   "cell_type": "code",
   "execution_count": 83,
   "metadata": {},
   "outputs": [
    {
     "data": {
      "text/html": [
       "<div>\n",
       "<style scoped>\n",
       "    .dataframe tbody tr th:only-of-type {\n",
       "        vertical-align: middle;\n",
       "    }\n",
       "\n",
       "    .dataframe tbody tr th {\n",
       "        vertical-align: top;\n",
       "    }\n",
       "\n",
       "    .dataframe thead th {\n",
       "        text-align: right;\n",
       "    }\n",
       "</style>\n",
       "<table border=\"1\" class=\"dataframe\">\n",
       "  <thead>\n",
       "    <tr style=\"text-align: right;\">\n",
       "      <th></th>\n",
       "      <th>sex</th>\n",
       "      <th>length</th>\n",
       "      <th>diameter</th>\n",
       "      <th>height</th>\n",
       "      <th>weight</th>\n",
       "      <th>shucked_weight</th>\n",
       "      <th>viscera_weight</th>\n",
       "      <th>shell_weight</th>\n",
       "      <th>age</th>\n",
       "      <th>bmi</th>\n",
       "      <th>density</th>\n",
       "      <th>height_above_average</th>\n",
       "      <th>weight_above_average</th>\n",
       "    </tr>\n",
       "  </thead>\n",
       "  <tbody>\n",
       "    <tr>\n",
       "      <th>0</th>\n",
       "      <td>F</td>\n",
       "      <td>0.43815</td>\n",
       "      <td>0.35814</td>\n",
       "      <td>0.12573</td>\n",
       "      <td>0.698410</td>\n",
       "      <td>0.349607</td>\n",
       "      <td>0.158328</td>\n",
       "      <td>0.191279</td>\n",
       "      <td>9</td>\n",
       "      <td>44.180705</td>\n",
       "      <td>35.399401</td>\n",
       "      <td>1</td>\n",
       "      <td>1</td>\n",
       "    </tr>\n",
       "    <tr>\n",
       "      <th>1</th>\n",
       "      <td>M</td>\n",
       "      <td>0.27051</td>\n",
       "      <td>0.19812</td>\n",
       "      <td>0.06477</td>\n",
       "      <td>0.153104</td>\n",
       "      <td>0.065099</td>\n",
       "      <td>0.038979</td>\n",
       "      <td>0.044203</td>\n",
       "      <td>6</td>\n",
       "      <td>36.495379</td>\n",
       "      <td>44.106250</td>\n",
       "      <td>0</td>\n",
       "      <td>0</td>\n",
       "    </tr>\n",
       "    <tr>\n",
       "      <th>2</th>\n",
       "      <td>I</td>\n",
       "      <td>0.31623</td>\n",
       "      <td>0.23622</td>\n",
       "      <td>0.07620</td>\n",
       "      <td>0.225436</td>\n",
       "      <td>0.091621</td>\n",
       "      <td>0.045409</td>\n",
       "      <td>0.078360</td>\n",
       "      <td>6</td>\n",
       "      <td>38.825192</td>\n",
       "      <td>39.604894</td>\n",
       "      <td>0</td>\n",
       "      <td>0</td>\n",
       "    </tr>\n",
       "    <tr>\n",
       "      <th>3</th>\n",
       "      <td>F</td>\n",
       "      <td>0.35814</td>\n",
       "      <td>0.27051</td>\n",
       "      <td>0.07620</td>\n",
       "      <td>0.382156</td>\n",
       "      <td>0.134619</td>\n",
       "      <td>0.064697</td>\n",
       "      <td>0.148683</td>\n",
       "      <td>10</td>\n",
       "      <td>65.815968</td>\n",
       "      <td>51.766653</td>\n",
       "      <td>0</td>\n",
       "      <td>0</td>\n",
       "    </tr>\n",
       "    <tr>\n",
       "      <th>4</th>\n",
       "      <td>I</td>\n",
       "      <td>0.27051</td>\n",
       "      <td>0.20193</td>\n",
       "      <td>0.06477</td>\n",
       "      <td>0.195699</td>\n",
       "      <td>0.098051</td>\n",
       "      <td>0.042194</td>\n",
       "      <td>0.048222</td>\n",
       "      <td>6</td>\n",
       "      <td>46.648949</td>\n",
       "      <td>55.313558</td>\n",
       "      <td>0</td>\n",
       "      <td>0</td>\n",
       "    </tr>\n",
       "  </tbody>\n",
       "</table>\n",
       "</div>"
      ],
      "text/plain": [
       "  sex   length  diameter   height    weight  shucked_weight  viscera_weight  \\\n",
       "0   F  0.43815   0.35814  0.12573  0.698410        0.349607        0.158328   \n",
       "1   M  0.27051   0.19812  0.06477  0.153104        0.065099        0.038979   \n",
       "2   I  0.31623   0.23622  0.07620  0.225436        0.091621        0.045409   \n",
       "3   F  0.35814   0.27051  0.07620  0.382156        0.134619        0.064697   \n",
       "4   I  0.27051   0.20193  0.06477  0.195699        0.098051        0.042194   \n",
       "\n",
       "   shell_weight  age        bmi    density  height_above_average  \\\n",
       "0      0.191279    9  44.180705  35.399401                     1   \n",
       "1      0.044203    6  36.495379  44.106250                     0   \n",
       "2      0.078360    6  38.825192  39.604894                     0   \n",
       "3      0.148683   10  65.815968  51.766653                     0   \n",
       "4      0.048222    6  46.648949  55.313558                     0   \n",
       "\n",
       "   weight_above_average  \n",
       "0                     1  \n",
       "1                     0  \n",
       "2                     0  \n",
       "3                     0  \n",
       "4                     0  "
      ]
     },
     "execution_count": 83,
     "metadata": {},
     "output_type": "execute_result"
    }
   ],
   "source": [
    "df.head()"
   ]
  },
  {
   "cell_type": "code",
   "execution_count": 84,
   "metadata": {},
   "outputs": [],
   "source": [
    "columns = ['length', 'diameter', 'height', 'weight', 'bmi', 'density', 'height_above_average', 'weight_above_average']\n",
    "column_filter = ['sex', 'length', 'diameter', 'height', 'weight', 'bmi', 'density', 'age', 'height_above_average', 'weight_above_average']"
   ]
  },
  {
   "cell_type": "code",
   "execution_count": 85,
   "metadata": {},
   "outputs": [],
   "source": [
    "df = df[column_filter]"
   ]
  },
  {
   "cell_type": "code",
   "execution_count": 86,
   "metadata": {},
   "outputs": [
    {
     "data": {
      "image/png": "[encoded data removed]",
      "text/plain": [
       "<Figure size 432x288 with 2 Axes>"
      ]
     },
     "metadata": {
      "needs_background": "light"
     },
     "output_type": "display_data"
    }
   ],
   "source": [
    "corr_matrix = df[columns].corr()\n",
    "sns.heatmap(corr_matrix, annot=True)\n",
    "plt.show()"
   ]
  },
  {
   "cell_type": "code",
   "execution_count": 87,
   "metadata": {},
   "outputs": [],
   "source": [
    "from sklearn.model_selection import train_test_split"
   ]
  },
  {
   "cell_type": "code",
   "execution_count": 88,
   "metadata": {},
   "outputs": [],
   "source": [
    "df_full_train, df_test = train_test_split(df, test_size=0.2, random_state=42)\n",
    "df_train, df_val = train_test_split(df_full_train, test_size=0.25, random_state=42)"
   ]
  },
  {
   "cell_type": "code",
   "execution_count": 89,
   "metadata": {},
   "outputs": [
    {
     "data": {
      "text/plain": [
       "(2334, 778, 779)"
      ]
     },
     "execution_count": 89,
     "metadata": {},
     "output_type": "execute_result"
    }
   ],
   "source": [
    "len(df_train), len(df_val), len(df_test)"
   ]
  },
  {
   "cell_type": "code",
   "execution_count": 90,
   "metadata": {},
   "outputs": [],
   "source": [
    "df_train = df_train.reset_index(drop=True)\n",
    "df_val = df_val.reset_index(drop=True)\n",
    "df_test = df_test.reset_index(drop=True)"
   ]
  },
  {
   "cell_type": "code",
   "execution_count": 91,
   "metadata": {},
   "outputs": [],
   "source": [
    "y_train = df_train.age.values\n",
    "y_full_train = df_full_train.age.values\n",
    "y_val = df_val.age.values\n",
    "y_test = df_test.age.values"
   ]
  },
  {
   "cell_type": "code",
   "execution_count": 92,
   "metadata": {},
   "outputs": [],
   "source": [
    "del df_train['age']\n",
    "del df_full_train['age']\n",
    "del df_val['age']\n",
    "del df_test['age']"
   ]
  },
  {
   "cell_type": "code",
   "execution_count": 93,
   "metadata": {},
   "outputs": [
    {
     "data": {
      "text/html": [
       "<div>\n",
       "<style scoped>\n",
       "    .dataframe tbody tr th:only-of-type {\n",
       "        vertical-align: middle;\n",
       "    }\n",
       "\n",
       "    .dataframe tbody tr th {\n",
       "        vertical-align: top;\n",
       "    }\n",
       "\n",
       "    .dataframe thead th {\n",
       "        text-align: right;\n",
       "    }\n",
       "</style>\n",
       "<table border=\"1\" class=\"dataframe\">\n",
       "  <thead>\n",
       "    <tr style=\"text-align: right;\">\n",
       "      <th></th>\n",
       "      <th>sex</th>\n",
       "      <th>length</th>\n",
       "      <th>diameter</th>\n",
       "      <th>height</th>\n",
       "      <th>weight</th>\n",
       "      <th>bmi</th>\n",
       "      <th>density</th>\n",
       "      <th>height_above_average</th>\n",
       "      <th>weight_above_average</th>\n",
       "    </tr>\n",
       "  </thead>\n",
       "  <tbody>\n",
       "    <tr>\n",
       "      <th>0</th>\n",
       "      <td>I</td>\n",
       "      <td>0.40386</td>\n",
       "      <td>0.32004</td>\n",
       "      <td>0.09906</td>\n",
       "      <td>0.528831</td>\n",
       "      <td>53.891459</td>\n",
       "      <td>41.303149</td>\n",
       "      <td>0</td>\n",
       "      <td>0</td>\n",
       "    </tr>\n",
       "    <tr>\n",
       "      <th>1</th>\n",
       "      <td>F</td>\n",
       "      <td>0.51054</td>\n",
       "      <td>0.38481</td>\n",
       "      <td>0.13335</td>\n",
       "      <td>0.815348</td>\n",
       "      <td>45.851833</td>\n",
       "      <td>31.122437</td>\n",
       "      <td>1</td>\n",
       "      <td>1</td>\n",
       "    </tr>\n",
       "    <tr>\n",
       "      <th>2</th>\n",
       "      <td>I</td>\n",
       "      <td>0.16383</td>\n",
       "      <td>0.12954</td>\n",
       "      <td>0.04191</td>\n",
       "      <td>0.048623</td>\n",
       "      <td>27.682847</td>\n",
       "      <td>54.667735</td>\n",
       "      <td>0</td>\n",
       "      <td>0</td>\n",
       "    </tr>\n",
       "    <tr>\n",
       "      <th>3</th>\n",
       "      <td>F</td>\n",
       "      <td>0.41148</td>\n",
       "      <td>0.32004</td>\n",
       "      <td>0.09906</td>\n",
       "      <td>0.603172</td>\n",
       "      <td>61.467386</td>\n",
       "      <td>46.237045</td>\n",
       "      <td>0</td>\n",
       "      <td>0</td>\n",
       "    </tr>\n",
       "    <tr>\n",
       "      <th>4</th>\n",
       "      <td>M</td>\n",
       "      <td>0.49149</td>\n",
       "      <td>0.39243</td>\n",
       "      <td>0.14097</td>\n",
       "      <td>1.173795</td>\n",
       "      <td>59.066176</td>\n",
       "      <td>43.170658</td>\n",
       "      <td>1</td>\n",
       "      <td>1</td>\n",
       "    </tr>\n",
       "    <tr>\n",
       "      <th>...</th>\n",
       "      <td>...</td>\n",
       "      <td>...</td>\n",
       "      <td>...</td>\n",
       "      <td>...</td>\n",
       "      <td>...</td>\n",
       "      <td>...</td>\n",
       "      <td>...</td>\n",
       "      <td>...</td>\n",
       "      <td>...</td>\n",
       "    </tr>\n",
       "    <tr>\n",
       "      <th>2329</th>\n",
       "      <td>M</td>\n",
       "      <td>0.34290</td>\n",
       "      <td>0.25527</td>\n",
       "      <td>0.10668</td>\n",
       "      <td>0.371708</td>\n",
       "      <td>32.661522</td>\n",
       "      <td>39.806332</td>\n",
       "      <td>1</td>\n",
       "      <td>0</td>\n",
       "    </tr>\n",
       "    <tr>\n",
       "      <th>2330</th>\n",
       "      <td>F</td>\n",
       "      <td>0.43815</td>\n",
       "      <td>0.36195</td>\n",
       "      <td>0.12192</td>\n",
       "      <td>0.719306</td>\n",
       "      <td>48.390913</td>\n",
       "      <td>37.202093</td>\n",
       "      <td>1</td>\n",
       "      <td>1</td>\n",
       "    </tr>\n",
       "    <tr>\n",
       "      <th>2331</th>\n",
       "      <td>F</td>\n",
       "      <td>0.36957</td>\n",
       "      <td>0.27813</td>\n",
       "      <td>0.10668</td>\n",
       "      <td>0.497888</td>\n",
       "      <td>43.748784</td>\n",
       "      <td>45.405081</td>\n",
       "      <td>1</td>\n",
       "      <td>0</td>\n",
       "    </tr>\n",
       "    <tr>\n",
       "      <th>2332</th>\n",
       "      <td>I</td>\n",
       "      <td>0.13716</td>\n",
       "      <td>0.09906</td>\n",
       "      <td>0.03429</td>\n",
       "      <td>0.022102</td>\n",
       "      <td>18.796995</td>\n",
       "      <td>47.438408</td>\n",
       "      <td>0</td>\n",
       "      <td>0</td>\n",
       "    </tr>\n",
       "    <tr>\n",
       "      <th>2333</th>\n",
       "      <td>F</td>\n",
       "      <td>0.44958</td>\n",
       "      <td>0.34671</td>\n",
       "      <td>0.11049</td>\n",
       "      <td>0.854327</td>\n",
       "      <td>69.980656</td>\n",
       "      <td>49.605249</td>\n",
       "      <td>1</td>\n",
       "      <td>1</td>\n",
       "    </tr>\n",
       "  </tbody>\n",
       "</table>\n",
       "<p>2334 rows × 9 columns</p>\n",
       "</div>"
      ],
      "text/plain": [
       "     sex   length  diameter   height    weight        bmi    density  \\\n",
       "0      I  0.40386   0.32004  0.09906  0.528831  53.891459  41.303149   \n",
       "1      F  0.51054   0.38481  0.13335  0.815348  45.851833  31.122437   \n",
       "2      I  0.16383   0.12954  0.04191  0.048623  27.682847  54.667735   \n",
       "3      F  0.41148   0.32004  0.09906  0.603172  61.467386  46.237045   \n",
       "4      M  0.49149   0.39243  0.14097  1.173795  59.066176  43.170658   \n",
       "...   ..      ...       ...      ...       ...        ...        ...   \n",
       "2329   M  0.34290   0.25527  0.10668  0.371708  32.661522  39.806332   \n",
       "2330   F  0.43815   0.36195  0.12192  0.719306  48.390913  37.202093   \n",
       "2331   F  0.36957   0.27813  0.10668  0.497888  43.748784  45.405081   \n",
       "2332   I  0.13716   0.09906  0.03429  0.022102  18.796995  47.438408   \n",
       "2333   F  0.44958   0.34671  0.11049  0.854327  69.980656  49.605249   \n",
       "\n",
       "      height_above_average  weight_above_average  \n",
       "0                        0                     0  \n",
       "1                        1                     1  \n",
       "2                        0                     0  \n",
       "3                        0                     0  \n",
       "4                        1                     1  \n",
       "...                    ...                   ...  \n",
       "2329                     1                     0  \n",
       "2330                     1                     1  \n",
       "2331                     1                     0  \n",
       "2332                     0                     0  \n",
       "2333                     1                     1  \n",
       "\n",
       "[2334 rows x 9 columns]"
      ]
     },
     "execution_count": 93,
     "metadata": {},
     "output_type": "execute_result"
    }
   ],
   "source": [
    "df_train"
   ]
  },
  {
   "cell_type": "code",
   "execution_count": 94,
   "metadata": {},
   "outputs": [],
   "source": [
    "from sklearn.feature_extraction import DictVectorizer"
   ]
  },
  {
   "cell_type": "code",
   "execution_count": 95,
   "metadata": {},
   "outputs": [],
   "source": [
    "dv = DictVectorizer(sparse = False)"
   ]
  },
  {
   "cell_type": "code",
   "execution_count": 96,
   "metadata": {},
   "outputs": [],
   "source": [
    "X_train = dv.fit_transform(df_train.to_dict(orient='records'))\n",
    "X_val = dv.transform(df_val.to_dict(orient='records'))\n",
    "X_test = dv.transform(df_test.to_dict(orient='records'))"
   ]
  },
  {
   "cell_type": "code",
   "execution_count": 97,
   "metadata": {},
   "outputs": [],
   "source": [
    "from sklearn.linear_model import LogisticRegression"
   ]
  },
  {
   "cell_type": "code",
   "execution_count": 98,
   "metadata": {},
   "outputs": [],
   "source": [
    "model = LogisticRegression(solver='liblinear', C=0.01, max_iter=1000, random_state=42)"
   ]
  },
  {
   "cell_type": "code",
   "execution_count": 99,
   "metadata": {},
   "outputs": [
    {
     "data": {
      "text/plain": [
       "array([[5.38914588e+01, 4.13031487e+01, 3.20040000e-01, ...,\n",
       "        0.00000000e+00, 5.28830612e-01, 0.00000000e+00],\n",
       "       [4.58518333e+01, 3.11224373e+01, 3.84810000e-01, ...,\n",
       "        0.00000000e+00, 8.15347501e-01, 1.00000000e+00],\n",
       "       [2.76828466e+01, 5.46677353e+01, 1.29540000e-01, ...,\n",
       "        0.00000000e+00, 4.86234833e-02, 0.00000000e+00],\n",
       "       ...,\n",
       "       [4.37487843e+01, 4.54050806e+01, 2.78130000e-01, ...,\n",
       "        0.00000000e+00, 4.97888395e-01, 0.00000000e+00],\n",
       "       [1.87969946e+01, 4.74384075e+01, 9.90600000e-02, ...,\n",
       "        0.00000000e+00, 2.21015833e-02, 0.00000000e+00],\n",
       "       [6.99806562e+01, 4.96052489e+01, 3.46710000e-01, ...,\n",
       "        0.00000000e+00, 8.54326657e-01, 1.00000000e+00]])"
      ]
     },
     "execution_count": 99,
     "metadata": {},
     "output_type": "execute_result"
    }
   ],
   "source": [
    "X_train"
   ]
  },
  {
   "cell_type": "code",
   "execution_count": 100,
   "metadata": {},
   "outputs": [
    {
     "data": {
      "text/html": [
       "<style>#sk-container-id-1 {color: black;}#sk-container-id-1 pre{padding: 0;}#sk-container-id-1 div.sk-toggleable {background-color: white;}#sk-container-id-1 label.sk-toggleable__label {cursor: pointer;display: block;width: 100%;margin-bottom: 0;padding: 0.3em;box-sizing: border-box;text-align: center;}#sk-container-id-1 label.sk-toggleable__label-arrow:before {content: \"▸\";float: left;margin-right: 0.25em;color: #696969;}#sk-container-id-1 label.sk-toggleable__label-arrow:hover:before {color: black;}#sk-container-id-1 div.sk-estimator:hover label.sk-toggleable__label-arrow:before {color: black;}#sk-container-id-1 div.sk-toggleable__content {max-height: 0;max-width: 0;overflow: hidden;text-align: left;background-color: #f0f8ff;}#sk-container-id-1 div.sk-toggleable__content pre {margin: 0.2em;color: black;border-radius: 0.25em;background-color: #f0f8ff;}#sk-container-id-1 input.sk-toggleable__control:checked~div.sk-toggleable__content {max-height: 200px;max-width: 100%;overflow: auto;}#sk-container-id-1 input.sk-toggleable__control:checked~label.sk-toggleable__label-arrow:before {content: \"▾\";}#sk-container-id-1 div.sk-estimator input.sk-toggleable__control:checked~label.sk-toggleable__label {background-color: #d4ebff;}#sk-container-id-1 div.sk-label input.sk-toggleable__control:checked~label.sk-toggleable__label {background-color: #d4ebff;}#sk-container-id-1 input.sk-hidden--visually {border: 0;clip: rect(1px 1px 1px 1px);clip: rect(1px, 1px, 1px, 1px);height: 1px;margin: -1px;overflow: hidden;padding: 0;position: absolute;width: 1px;}#sk-container-id-1 div.sk-estimator {font-family: monospace;background-color: #f0f8ff;border: 1px dotted black;border-radius: 0.25em;box-sizing: border-box;margin-bottom: 0.5em;}#sk-container-id-1 div.sk-estimator:hover {background-color: #d4ebff;}#sk-container-id-1 div.sk-parallel-item::after {content: \"\";width: 100%;border-bottom: 1px solid gray;flex-grow: 1;}#sk-container-id-1 div.sk-label:hover label.sk-toggleable__label {background-color: #d4ebff;}#sk-container-id-1 div.sk-serial::before {content: \"\";position: absolute;border-left: 1px solid gray;box-sizing: border-box;top: 0;bottom: 0;left: 50%;z-index: 0;}#sk-container-id-1 div.sk-serial {display: flex;flex-direction: column;align-items: center;background-color: white;padding-right: 0.2em;padding-left: 0.2em;position: relative;}#sk-container-id-1 div.sk-item {position: relative;z-index: 1;}#sk-container-id-1 div.sk-parallel {display: flex;align-items: stretch;justify-content: center;background-color: white;position: relative;}#sk-container-id-1 div.sk-item::before, #sk-container-id-1 div.sk-parallel-item::before {content: \"\";position: absolute;border-left: 1px solid gray;box-sizing: border-box;top: 0;bottom: 0;left: 50%;z-index: -1;}#sk-container-id-1 div.sk-parallel-item {display: flex;flex-direction: column;z-index: 1;position: relative;background-color: white;}#sk-container-id-1 div.sk-parallel-item:first-child::after {align-self: flex-end;width: 50%;}#sk-container-id-1 div.sk-parallel-item:last-child::after {align-self: flex-start;width: 50%;}#sk-container-id-1 div.sk-parallel-item:only-child::after {width: 0;}#sk-container-id-1 div.sk-dashed-wrapped {border: 1px dashed gray;margin: 0 0.4em 0.5em 0.4em;box-sizing: border-box;padding-bottom: 0.4em;background-color: white;}#sk-container-id-1 div.sk-label label {font-family: monospace;font-weight: bold;display: inline-block;line-height: 1.2em;}#sk-container-id-1 div.sk-label-container {text-align: center;}#sk-container-id-1 div.sk-container {/* jupyter's `normalize.less` sets `[hidden] { display: none; }` but bootstrap.min.css set `[hidden] { display: none !important; }` so we also need the `!important` here to be able to override the default hidden behavior on the sphinx rendered scikit-learn.org. See: https://github.com/scikit-learn/scikit-learn/issues/21755 */display: inline-block !important;position: relative;}#sk-container-id-1 div.sk-text-repr-fallback {display: none;}</style><div id=\"sk-container-id-1\" class=\"sk-top-container\"><div class=\"sk-text-repr-fallback\"><pre>LogisticRegression(C=0.01, max_iter=1000, random_state=42, solver=&#x27;liblinear&#x27;)</pre><b>In a Jupyter environment, please rerun this cell to show the HTML representation or trust the notebook. <br />On GitHub, the HTML representation is unable to render, please try loading this page with nbviewer.org.</b></div><div class=\"sk-container\" hidden><div class=\"sk-item\"><div class=\"sk-estimator sk-toggleable\"><input class=\"sk-toggleable__control sk-hidden--visually\" id=\"sk-estimator-id-1\" type=\"checkbox\" checked><label for=\"sk-estimator-id-1\" class=\"sk-toggleable__label sk-toggleable__label-arrow\">LogisticRegression</label><div class=\"sk-toggleable__content\"><pre>LogisticRegression(C=0.01, max_iter=1000, random_state=42, solver=&#x27;liblinear&#x27;)</pre></div></div></div></div></div>"
      ],
      "text/plain": [
       "LogisticRegression(C=0.01, max_iter=1000, random_state=42, solver='liblinear')"
      ]
     },
     "execution_count": 100,
     "metadata": {},
     "output_type": "execute_result"
    }
   ],
   "source": [
    "model.fit(X_train, y_train)"
   ]
  },
  {
   "cell_type": "code",
   "execution_count": 101,
   "metadata": {},
   "outputs": [],
   "source": [
    "y_pred = model.predict_proba(X_val)[:, 1]"
   ]
  },
  {
   "cell_type": "code",
   "execution_count": 102,
   "metadata": {},
   "outputs": [],
   "source": [
    "def rmse(y, y_pred):\n",
    "    se = (y - y_pred) ** 2\n",
    "    mse = se.mean()\n",
    "    return np.sqrt(mse)"
   ]
  },
  {
   "cell_type": "code",
   "execution_count": 103,
   "metadata": {},
   "outputs": [
    {
     "data": {
      "text/plain": [
       "10.459331792885225"
      ]
     },
     "execution_count": 103,
     "metadata": {},
     "output_type": "execute_result"
    }
   ],
   "source": [
    "rmse(y_val, y_pred)"
   ]
  },
  {
   "cell_type": "code",
   "execution_count": 104,
   "metadata": {},
   "outputs": [],
   "source": [
    "from sklearn.tree import DecisionTreeRegressor\n",
    "from sklearn.tree import export_text"
   ]
  },
  {
   "cell_type": "code",
   "execution_count": 105,
   "metadata": {},
   "outputs": [],
   "source": [
    "dt = DecisionTreeRegressor(max_depth=3)"
   ]
  },
  {
   "cell_type": "code",
   "execution_count": 106,
   "metadata": {},
   "outputs": [
    {
     "data": {
      "text/html": [
       "<style>#sk-container-id-2 {color: black;}#sk-container-id-2 pre{padding: 0;}#sk-container-id-2 div.sk-toggleable {background-color: white;}#sk-container-id-2 label.sk-toggleable__label {cursor: pointer;display: block;width: 100%;margin-bottom: 0;padding: 0.3em;box-sizing: border-box;text-align: center;}#sk-container-id-2 label.sk-toggleable__label-arrow:before {content: \"▸\";float: left;margin-right: 0.25em;color: #696969;}#sk-container-id-2 label.sk-toggleable__label-arrow:hover:before {color: black;}#sk-container-id-2 div.sk-estimator:hover label.sk-toggleable__label-arrow:before {color: black;}#sk-container-id-2 div.sk-toggleable__content {max-height: 0;max-width: 0;overflow: hidden;text-align: left;background-color: #f0f8ff;}#sk-container-id-2 div.sk-toggleable__content pre {margin: 0.2em;color: black;border-radius: 0.25em;background-color: #f0f8ff;}#sk-container-id-2 input.sk-toggleable__control:checked~div.sk-toggleable__content {max-height: 200px;max-width: 100%;overflow: auto;}#sk-container-id-2 input.sk-toggleable__control:checked~label.sk-toggleable__label-arrow:before {content: \"▾\";}#sk-container-id-2 div.sk-estimator input.sk-toggleable__control:checked~label.sk-toggleable__label {background-color: #d4ebff;}#sk-container-id-2 div.sk-label input.sk-toggleable__control:checked~label.sk-toggleable__label {background-color: #d4ebff;}#sk-container-id-2 input.sk-hidden--visually {border: 0;clip: rect(1px 1px 1px 1px);clip: rect(1px, 1px, 1px, 1px);height: 1px;margin: -1px;overflow: hidden;padding: 0;position: absolute;width: 1px;}#sk-container-id-2 div.sk-estimator {font-family: monospace;background-color: #f0f8ff;border: 1px dotted black;border-radius: 0.25em;box-sizing: border-box;margin-bottom: 0.5em;}#sk-container-id-2 div.sk-estimator:hover {background-color: #d4ebff;}#sk-container-id-2 div.sk-parallel-item::after {content: \"\";width: 100%;border-bottom: 1px solid gray;flex-grow: 1;}#sk-container-id-2 div.sk-label:hover label.sk-toggleable__label {background-color: #d4ebff;}#sk-container-id-2 div.sk-serial::before {content: \"\";position: absolute;border-left: 1px solid gray;box-sizing: border-box;top: 0;bottom: 0;left: 50%;z-index: 0;}#sk-container-id-2 div.sk-serial {display: flex;flex-direction: column;align-items: center;background-color: white;padding-right: 0.2em;padding-left: 0.2em;position: relative;}#sk-container-id-2 div.sk-item {position: relative;z-index: 1;}#sk-container-id-2 div.sk-parallel {display: flex;align-items: stretch;justify-content: center;background-color: white;position: relative;}#sk-container-id-2 div.sk-item::before, #sk-container-id-2 div.sk-parallel-item::before {content: \"\";position: absolute;border-left: 1px solid gray;box-sizing: border-box;top: 0;bottom: 0;left: 50%;z-index: -1;}#sk-container-id-2 div.sk-parallel-item {display: flex;flex-direction: column;z-index: 1;position: relative;background-color: white;}#sk-container-id-2 div.sk-parallel-item:first-child::after {align-self: flex-end;width: 50%;}#sk-container-id-2 div.sk-parallel-item:last-child::after {align-self: flex-start;width: 50%;}#sk-container-id-2 div.sk-parallel-item:only-child::after {width: 0;}#sk-container-id-2 div.sk-dashed-wrapped {border: 1px dashed gray;margin: 0 0.4em 0.5em 0.4em;box-sizing: border-box;padding-bottom: 0.4em;background-color: white;}#sk-container-id-2 div.sk-label label {font-family: monospace;font-weight: bold;display: inline-block;line-height: 1.2em;}#sk-container-id-2 div.sk-label-container {text-align: center;}#sk-container-id-2 div.sk-container {/* jupyter's `normalize.less` sets `[hidden] { display: none; }` but bootstrap.min.css set `[hidden] { display: none !important; }` so we also need the `!important` here to be able to override the default hidden behavior on the sphinx rendered scikit-learn.org. See: https://github.com/scikit-learn/scikit-learn/issues/21755 */display: inline-block !important;position: relative;}#sk-container-id-2 div.sk-text-repr-fallback {display: none;}</style><div id=\"sk-container-id-2\" class=\"sk-top-container\"><div class=\"sk-text-repr-fallback\"><pre>DecisionTreeRegressor(max_depth=3)</pre><b>In a Jupyter environment, please rerun this cell to show the HTML representation or trust the notebook. <br />On GitHub, the HTML representation is unable to render, please try loading this page with nbviewer.org.</b></div><div class=\"sk-container\" hidden><div class=\"sk-item\"><div class=\"sk-estimator sk-toggleable\"><input class=\"sk-toggleable__control sk-hidden--visually\" id=\"sk-estimator-id-2\" type=\"checkbox\" checked><label for=\"sk-estimator-id-2\" class=\"sk-toggleable__label sk-toggleable__label-arrow\">DecisionTreeRegressor</label><div class=\"sk-toggleable__content\"><pre>DecisionTreeRegressor(max_depth=3)</pre></div></div></div></div></div>"
      ],
      "text/plain": [
       "DecisionTreeRegressor(max_depth=3)"
      ]
     },
     "execution_count": 106,
     "metadata": {},
     "output_type": "execute_result"
    }
   ],
   "source": [
    "dt.fit(X_train, y_train)"
   ]
  },
  {
   "cell_type": "code",
   "execution_count": 107,
   "metadata": {},
   "outputs": [],
   "source": [
    "y_pred = dt.predict(X_val)"
   ]
  },
  {
   "cell_type": "code",
   "execution_count": 108,
   "metadata": {},
   "outputs": [
    {
     "name": "stdout",
     "output_type": "stream",
     "text": [
      "|--- height <= 0.09\n",
      "|   |--- diameter <= 0.18\n",
      "|   |   |--- diameter <= 0.14\n",
      "|   |   |   |--- value: [4.43]\n",
      "|   |   |--- diameter >  0.14\n",
      "|   |   |   |--- value: [6.09]\n",
      "|   |--- diameter >  0.18\n",
      "|   |   |--- sex=I <= 0.50\n",
      "|   |   |   |--- value: [9.25]\n",
      "|   |   |--- sex=I >  0.50\n",
      "|   |   |   |--- value: [7.44]\n",
      "|--- height >  0.09\n",
      "|   |--- height <= 0.12\n",
      "|   |   |--- sex=I <= 0.50\n",
      "|   |   |   |--- value: [10.60]\n",
      "|   |   |--- sex=I >  0.50\n",
      "|   |   |   |--- value: [9.52]\n",
      "|   |--- height >  0.12\n",
      "|   |   |--- height <= 0.16\n",
      "|   |   |   |--- value: [11.96]\n",
      "|   |   |--- height >  0.16\n",
      "|   |   |   |--- value: [14.33]\n",
      "\n"
     ]
    }
   ],
   "source": [
    "print(export_text(dt, feature_names=list(dv.get_feature_names_out())))"
   ]
  },
  {
   "cell_type": "code",
   "execution_count": 109,
   "metadata": {},
   "outputs": [
    {
     "data": {
      "text/plain": [
       "2.5931020105145444"
      ]
     },
     "execution_count": 109,
     "metadata": {},
     "output_type": "execute_result"
    }
   ],
   "source": [
    "rmse(y_val, y_pred)"
   ]
  },
  {
   "cell_type": "code",
   "execution_count": 110,
   "metadata": {},
   "outputs": [],
   "source": [
    "y_pred_train = dt.predict(X_train)"
   ]
  },
  {
   "cell_type": "code",
   "execution_count": 111,
   "metadata": {},
   "outputs": [
    {
     "data": {
      "text/plain": [
       "2.5616686258885712"
      ]
     },
     "execution_count": 111,
     "metadata": {},
     "output_type": "execute_result"
    }
   ],
   "source": [
    "rmse(y_train, y_pred_train)"
   ]
  },
  {
   "cell_type": "code",
   "execution_count": 112,
   "metadata": {},
   "outputs": [],
   "source": [
    "from sklearn.ensemble import RandomForestRegressor"
   ]
  },
  {
   "cell_type": "code",
   "execution_count": 113,
   "metadata": {},
   "outputs": [],
   "source": [
    "rf = RandomForestRegressor(n_estimators=100, random_state=1, max_depth=8, n_jobs=-1)"
   ]
  },
  {
   "cell_type": "code",
   "execution_count": 114,
   "metadata": {},
   "outputs": [
    {
     "data": {
      "text/html": [
       "<style>#sk-container-id-3 {color: black;}#sk-container-id-3 pre{padding: 0;}#sk-container-id-3 div.sk-toggleable {background-color: white;}#sk-container-id-3 label.sk-toggleable__label {cursor: pointer;display: block;width: 100%;margin-bottom: 0;padding: 0.3em;box-sizing: border-box;text-align: center;}#sk-container-id-3 label.sk-toggleable__label-arrow:before {content: \"▸\";float: left;margin-right: 0.25em;color: #696969;}#sk-container-id-3 label.sk-toggleable__label-arrow:hover:before {color: black;}#sk-container-id-3 div.sk-estimator:hover label.sk-toggleable__label-arrow:before {color: black;}#sk-container-id-3 div.sk-toggleable__content {max-height: 0;max-width: 0;overflow: hidden;text-align: left;background-color: #f0f8ff;}#sk-container-id-3 div.sk-toggleable__content pre {margin: 0.2em;color: black;border-radius: 0.25em;background-color: #f0f8ff;}#sk-container-id-3 input.sk-toggleable__control:checked~div.sk-toggleable__content {max-height: 200px;max-width: 100%;overflow: auto;}#sk-container-id-3 input.sk-toggleable__control:checked~label.sk-toggleable__label-arrow:before {content: \"▾\";}#sk-container-id-3 div.sk-estimator input.sk-toggleable__control:checked~label.sk-toggleable__label {background-color: #d4ebff;}#sk-container-id-3 div.sk-label input.sk-toggleable__control:checked~label.sk-toggleable__label {background-color: #d4ebff;}#sk-container-id-3 input.sk-hidden--visually {border: 0;clip: rect(1px 1px 1px 1px);clip: rect(1px, 1px, 1px, 1px);height: 1px;margin: -1px;overflow: hidden;padding: 0;position: absolute;width: 1px;}#sk-container-id-3 div.sk-estimator {font-family: monospace;background-color: #f0f8ff;border: 1px dotted black;border-radius: 0.25em;box-sizing: border-box;margin-bottom: 0.5em;}#sk-container-id-3 div.sk-estimator:hover {background-color: #d4ebff;}#sk-container-id-3 div.sk-parallel-item::after {content: \"\";width: 100%;border-bottom: 1px solid gray;flex-grow: 1;}#sk-container-id-3 div.sk-label:hover label.sk-toggleable__label {background-color: #d4ebff;}#sk-container-id-3 div.sk-serial::before {content: \"\";position: absolute;border-left: 1px solid gray;box-sizing: border-box;top: 0;bottom: 0;left: 50%;z-index: 0;}#sk-container-id-3 div.sk-serial {display: flex;flex-direction: column;align-items: center;background-color: white;padding-right: 0.2em;padding-left: 0.2em;position: relative;}#sk-container-id-3 div.sk-item {position: relative;z-index: 1;}#sk-container-id-3 div.sk-parallel {display: flex;align-items: stretch;justify-content: center;background-color: white;position: relative;}#sk-container-id-3 div.sk-item::before, #sk-container-id-3 div.sk-parallel-item::before {content: \"\";position: absolute;border-left: 1px solid gray;box-sizing: border-box;top: 0;bottom: 0;left: 50%;z-index: -1;}#sk-container-id-3 div.sk-parallel-item {display: flex;flex-direction: column;z-index: 1;position: relative;background-color: white;}#sk-container-id-3 div.sk-parallel-item:first-child::after {align-self: flex-end;width: 50%;}#sk-container-id-3 div.sk-parallel-item:last-child::after {align-self: flex-start;width: 50%;}#sk-container-id-3 div.sk-parallel-item:only-child::after {width: 0;}#sk-container-id-3 div.sk-dashed-wrapped {border: 1px dashed gray;margin: 0 0.4em 0.5em 0.4em;box-sizing: border-box;padding-bottom: 0.4em;background-color: white;}#sk-container-id-3 div.sk-label label {font-family: monospace;font-weight: bold;display: inline-block;line-height: 1.2em;}#sk-container-id-3 div.sk-label-container {text-align: center;}#sk-container-id-3 div.sk-container {/* jupyter's `normalize.less` sets `[hidden] { display: none; }` but bootstrap.min.css set `[hidden] { display: none !important; }` so we also need the `!important` here to be able to override the default hidden behavior on the sphinx rendered scikit-learn.org. See: https://github.com/scikit-learn/scikit-learn/issues/21755 */display: inline-block !important;position: relative;}#sk-container-id-3 div.sk-text-repr-fallback {display: none;}</style><div id=\"sk-container-id-3\" class=\"sk-top-container\"><div class=\"sk-text-repr-fallback\"><pre>RandomForestRegressor(max_depth=8, n_jobs=-1, random_state=1)</pre><b>In a Jupyter environment, please rerun this cell to show the HTML representation or trust the notebook. <br />On GitHub, the HTML representation is unable to render, please try loading this page with nbviewer.org.</b></div><div class=\"sk-container\" hidden><div class=\"sk-item\"><div class=\"sk-estimator sk-toggleable\"><input class=\"sk-toggleable__control sk-hidden--visually\" id=\"sk-estimator-id-3\" type=\"checkbox\" checked><label for=\"sk-estimator-id-3\" class=\"sk-toggleable__label sk-toggleable__label-arrow\">RandomForestRegressor</label><div class=\"sk-toggleable__content\"><pre>RandomForestRegressor(max_depth=8, n_jobs=-1, random_state=1)</pre></div></div></div></div></div>"
      ],
      "text/plain": [
       "RandomForestRegressor(max_depth=8, n_jobs=-1, random_state=1)"
      ]
     },
     "execution_count": 114,
     "metadata": {},
     "output_type": "execute_result"
    }
   ],
   "source": [
    "rf.fit(X_train, y_train)"
   ]
  },
  {
   "cell_type": "code",
   "execution_count": 115,
   "metadata": {},
   "outputs": [],
   "source": [
    "y_pred = rf.predict(X_val)"
   ]
  },
  {
   "cell_type": "code",
   "execution_count": 116,
   "metadata": {},
   "outputs": [
    {
     "data": {
      "text/plain": [
       "2.5639279043297516"
      ]
     },
     "execution_count": 116,
     "metadata": {},
     "output_type": "execute_result"
    }
   ],
   "source": [
    "rmse(y_val, y_pred)"
   ]
  },
  {
   "cell_type": "code",
   "execution_count": 117,
   "metadata": {},
   "outputs": [],
   "source": [
    "feature_names=list(dv.get_feature_names_out())"
   ]
  },
  {
   "cell_type": "code",
   "execution_count": 118,
   "metadata": {},
   "outputs": [],
   "source": [
    "feature_importances = list(zip(feature_names, rf.feature_importances_))"
   ]
  },
  {
   "cell_type": "code",
   "execution_count": 119,
   "metadata": {},
   "outputs": [],
   "source": [
    "importance_df = pd.DataFrame(feature_importances, columns=['feature_names', 'feature_importances'])"
   ]
  },
  {
   "cell_type": "code",
   "execution_count": 120,
   "metadata": {},
   "outputs": [],
   "source": [
    "importance_df = importance_df.sort_values(by='feature_importances', ascending=False)"
   ]
  },
  {
   "cell_type": "code",
   "execution_count": 121,
   "metadata": {},
   "outputs": [
    {
     "data": {
      "text/plain": [
       "Text(0.5, 1.0, 'Feature Importance Chart')"
      ]
     },
     "execution_count": 121,
     "metadata": {},
     "output_type": "execute_result"
    },
    {
     "data": {
      "image/png": "[encoded data removed]",
      "text/plain": [
       "<Figure size 576x432 with 1 Axes>"
      ]
     },
     "metadata": {
      "needs_background": "light"
     },
     "output_type": "display_data"
    }
   ],
   "source": [
    "plt.figure(figsize=(8, 6))\n",
    "sns.barplot(x='feature_importances', y='feature_names', data=importance_df, palette='Blues_r')\n",
    "plt.xlabel('Feature Importance')\n",
    "plt.ylabel('Feature Names')\n",
    "plt.title('Feature Importance Chart')"
   ]
  },
  {
   "cell_type": "code",
   "execution_count": 122,
   "metadata": {},
   "outputs": [],
   "source": [
    "import xgboost as xgb"
   ]
  },
  {
   "cell_type": "code",
   "execution_count": 123,
   "metadata": {},
   "outputs": [],
   "source": [
    "dv = DictVectorizer(sparse = False)"
   ]
  },
  {
   "cell_type": "code",
   "execution_count": 124,
   "metadata": {},
   "outputs": [],
   "source": [
    "filter_col = ['height', 'weight', 'density', 'bmi', 'diameter', 'length', 'sex']\n",
    "X_train = dv.fit_transform(df_train[filter_col].to_dict(orient='records'))\n",
    "X_val = dv.transform(df_val[filter_col].to_dict(orient='records'))\n",
    "X_test = dv.transform(df_test[filter_col].to_dict(orient='records'))"
   ]
  },
  {
   "cell_type": "code",
   "execution_count": 125,
   "metadata": {},
   "outputs": [
    {
     "data": {
      "text/plain": [
       "['bmi',\n",
       " 'density',\n",
       " 'diameter',\n",
       " 'height',\n",
       " 'length',\n",
       " 'sex=F',\n",
       " 'sex=I',\n",
       " 'sex=M',\n",
       " 'weight']"
      ]
     },
     "execution_count": 125,
     "metadata": {},
     "output_type": "execute_result"
    }
   ],
   "source": [
    "features = dv.get_feature_names_out().tolist()\n",
    "features"
   ]
  },
  {
   "cell_type": "code",
   "execution_count": 126,
   "metadata": {},
   "outputs": [],
   "source": [
    "dtrain = xgb.DMatrix(X_train, label=y_train, feature_names=features)\n",
    "dval = xgb.DMatrix(X_val, label=y_val, feature_names=features)"
   ]
  },
  {
   "cell_type": "code",
   "execution_count": 127,
   "metadata": {},
   "outputs": [
    {
     "data": {
      "text/plain": [
       "['bmi',\n",
       " 'density',\n",
       " 'diameter',\n",
       " 'height',\n",
       " 'length',\n",
       " 'sex=F',\n",
       " 'sex=I',\n",
       " 'sex=M',\n",
       " 'weight']"
      ]
     },
     "execution_count": 127,
     "metadata": {},
     "output_type": "execute_result"
    }
   ],
   "source": [
    "features"
   ]
  },
  {
   "cell_type": "code",
   "execution_count": 128,
   "metadata": {},
   "outputs": [],
   "source": [
    "def parse_xgb_output(output):\n",
    "    results = []\n",
    "\n",
    "    for line in output.stdout.strip().split('\\n'):\n",
    "        it_line, train_line, val_line = line.split('\\t')\n",
    "\n",
    "        it = int(it_line.strip('[]'))\n",
    "        train = float(train_line.split(':')[1])\n",
    "        val = float(val_line.split(':')[1])\n",
    "\n",
    "        results.append((it, train, val))\n",
    "    \n",
    "    columns = ['num_iter', 'train_auc', 'val_auc']\n",
    "    df_results = pd.DataFrame(results, columns=columns)\n",
    "    return df_results"
   ]
  },
  {
   "cell_type": "code",
   "execution_count": 129,
   "metadata": {},
   "outputs": [],
   "source": [
    "watchlist = [(dtrain, 'train'), (dval, 'val')]"
   ]
  },
  {
   "cell_type": "code",
   "execution_count": 130,
   "metadata": {},
   "outputs": [],
   "source": [
    "%%capture output\n",
    "\n",
    "xgb_params = {\n",
    "    'eta': 0.3, \n",
    "    'max_depth': 6,\n",
    "    'min_child_weight': 1,\n",
    "    \n",
    "    'objective': 'reg:squarederror',\n",
    "    'nthread': 8,\n",
    "    \n",
    "    'seed': 1,\n",
    "    'verbosity': 1,\n",
    "}\n",
    "\n",
    "model = xgb.train(xgb_params, dtrain, num_boost_round=100,\n",
    "                  verbose_eval=5,\n",
    "                  evals=watchlist)"
   ]
  },
  {
   "cell_type": "code",
   "execution_count": 131,
   "metadata": {},
   "outputs": [],
   "source": [
    "scores = {}"
   ]
  },
  {
   "cell_type": "code",
   "execution_count": 132,
   "metadata": {},
   "outputs": [
    {
     "data": {
      "text/plain": [
       "'eta=0.3'"
      ]
     },
     "execution_count": 132,
     "metadata": {},
     "output_type": "execute_result"
    }
   ],
   "source": [
    "key = 'eta=%s' % (xgb_params['eta'])\n",
    "scores[key] = parse_xgb_output(output)\n",
    "key"
   ]
  },
  {
   "cell_type": "code",
   "execution_count": 133,
   "metadata": {},
   "outputs": [
    {
     "data": {
      "text/plain": [
       "{'eta=0.3':     num_iter  train_auc  val_auc\n",
       " 0          0    2.83026  2.91506\n",
       " 1          5    2.17574  2.55821\n",
       " 2         10    1.94951  2.56835\n",
       " 3         15    1.85383  2.60581\n",
       " 4         20    1.73486  2.63040\n",
       " 5         25    1.61256  2.66294\n",
       " 6         30    1.53811  2.67867\n",
       " 7         35    1.43763  2.70772\n",
       " 8         40    1.35083  2.72581\n",
       " 9         45    1.27505  2.74588\n",
       " 10        50    1.22785  2.75858\n",
       " 11        55    1.15921  2.77537\n",
       " 12        60    1.08078  2.79338\n",
       " 13        65    1.01788  2.80782\n",
       " 14        70    0.96376  2.80908\n",
       " 15        75    0.91570  2.81295\n",
       " 16        80    0.85802  2.81504\n",
       " 17        85    0.82252  2.81684\n",
       " 18        90    0.78902  2.81999\n",
       " 19        95    0.74538  2.82043\n",
       " 20        99    0.72184  2.82374}"
      ]
     },
     "execution_count": 133,
     "metadata": {},
     "output_type": "execute_result"
    }
   ],
   "source": [
    "scores"
   ]
  },
  {
   "cell_type": "code",
   "execution_count": 134,
   "metadata": {},
   "outputs": [],
   "source": [
    "y_pred = model.predict(dval)"
   ]
  },
  {
   "cell_type": "code",
   "execution_count": 135,
   "metadata": {},
   "outputs": [
    {
     "data": {
      "text/plain": [
       "2.823735939233956"
      ]
     },
     "execution_count": 135,
     "metadata": {},
     "output_type": "execute_result"
    }
   ],
   "source": [
    "rmse(y_val, y_pred)"
   ]
  },
  {
   "cell_type": "code",
   "execution_count": 136,
   "metadata": {},
   "outputs": [],
   "source": [
    "from sklearn.metrics import roc_auc_score"
   ]
  },
  {
   "cell_type": "code",
   "execution_count": 137,
   "metadata": {},
   "outputs": [
    {
     "name": "stdout",
     "output_type": "stream",
     "text": [
      "eta=0.1-max_depth=1\n",
      "[0]\ttrain-rmse:3.16259\tval-rmse:3.18647\n",
      "[5]\ttrain-rmse:2.91094\tval-rmse:2.92521\n",
      "[10]\ttrain-rmse:2.77338\tval-rmse:2.78586\n",
      "[15]\ttrain-rmse:2.69051\tval-rmse:2.70334\n",
      "[20]\ttrain-rmse:2.63785\tval-rmse:2.65531\n",
      "[25]\ttrain-rmse:2.60426\tval-rmse:2.62141\n",
      "[30]\ttrain-rmse:2.58165\tval-rmse:2.59972\n",
      "[35]\ttrain-rmse:2.56558\tval-rmse:2.58515\n",
      "[40]\ttrain-rmse:2.55422\tval-rmse:2.57622\n",
      "[45]\ttrain-rmse:2.54612\tval-rmse:2.57073\n",
      "[50]\ttrain-rmse:2.54034\tval-rmse:2.56600\n",
      "[55]\ttrain-rmse:2.53579\tval-rmse:2.56405\n",
      "[60]\ttrain-rmse:2.53204\tval-rmse:2.56201\n",
      "[65]\ttrain-rmse:2.52871\tval-rmse:2.56025\n",
      "[70]\ttrain-rmse:2.52568\tval-rmse:2.55949\n",
      "[75]\ttrain-rmse:2.52290\tval-rmse:2.55777\n",
      "[80]\ttrain-rmse:2.52033\tval-rmse:2.55675\n",
      "[85]\ttrain-rmse:2.51790\tval-rmse:2.55568\n",
      "[90]\ttrain-rmse:2.51559\tval-rmse:2.55512\n",
      "[95]\ttrain-rmse:2.51332\tval-rmse:2.55469\n",
      "[99]\ttrain-rmse:2.51165\tval-rmse:2.55426\n",
      "eta=0.1-max_depth=2\n",
      "[0]\ttrain-rmse:3.13618\tval-rmse:3.16004\n",
      "[5]\ttrain-rmse:2.80549\tval-rmse:2.82943\n",
      "[10]\ttrain-rmse:2.65190\tval-rmse:2.67522\n",
      "[15]\ttrain-rmse:2.57580\tval-rmse:2.60505\n",
      "[20]\ttrain-rmse:2.53604\tval-rmse:2.57222\n",
      "[25]\ttrain-rmse:2.51332\tval-rmse:2.55633\n",
      "[30]\ttrain-rmse:2.49848\tval-rmse:2.54585\n",
      "[35]\ttrain-rmse:2.48353\tval-rmse:2.53976\n",
      "[40]\ttrain-rmse:2.47281\tval-rmse:2.53734\n",
      "[45]\ttrain-rmse:2.46256\tval-rmse:2.53409\n",
      "[50]\ttrain-rmse:2.45485\tval-rmse:2.53276\n",
      "[55]\ttrain-rmse:2.44837\tval-rmse:2.53048\n",
      "[60]\ttrain-rmse:2.43908\tval-rmse:2.52790\n",
      "[65]\ttrain-rmse:2.43003\tval-rmse:2.52777\n",
      "[70]\ttrain-rmse:2.42376\tval-rmse:2.52531\n",
      "[75]\ttrain-rmse:2.41759\tval-rmse:2.52738\n",
      "[80]\ttrain-rmse:2.41191\tval-rmse:2.52607\n",
      "[85]\ttrain-rmse:2.40498\tval-rmse:2.52616\n",
      "[90]\ttrain-rmse:2.39857\tval-rmse:2.52685\n",
      "[95]\ttrain-rmse:2.39323\tval-rmse:2.52756\n",
      "[99]\ttrain-rmse:2.38851\tval-rmse:2.52917\n",
      "eta=0.1-max_depth=3\n",
      "[0]\ttrain-rmse:3.12406\tval-rmse:3.14753\n",
      "[5]\ttrain-rmse:2.75694\tval-rmse:2.79297\n",
      "[10]\ttrain-rmse:2.59549\tval-rmse:2.64116\n",
      "[15]\ttrain-rmse:2.51965\tval-rmse:2.57566\n",
      "[20]\ttrain-rmse:2.47507\tval-rmse:2.54811\n",
      "[25]\ttrain-rmse:2.44621\tval-rmse:2.53642\n",
      "[30]\ttrain-rmse:2.42006\tval-rmse:2.52520\n",
      "[35]\ttrain-rmse:2.40265\tval-rmse:2.51955\n",
      "[40]\ttrain-rmse:2.39030\tval-rmse:2.51815\n",
      "[45]\ttrain-rmse:2.37974\tval-rmse:2.51629\n",
      "[50]\ttrain-rmse:2.36971\tval-rmse:2.51789\n",
      "[55]\ttrain-rmse:2.35872\tval-rmse:2.51753\n",
      "[60]\ttrain-rmse:2.34789\tval-rmse:2.52058\n",
      "[65]\ttrain-rmse:2.33734\tval-rmse:2.52020\n",
      "[70]\ttrain-rmse:2.32633\tval-rmse:2.52374\n",
      "[75]\ttrain-rmse:2.31770\tval-rmse:2.52640\n",
      "[80]\ttrain-rmse:2.30554\tval-rmse:2.52650\n",
      "[85]\ttrain-rmse:2.29745\tval-rmse:2.52947\n",
      "[90]\ttrain-rmse:2.28624\tval-rmse:2.53230\n",
      "[95]\ttrain-rmse:2.27483\tval-rmse:2.53273\n",
      "[99]\ttrain-rmse:2.26691\tval-rmse:2.53284\n",
      "eta=0.1-max_depth=4\n",
      "[0]\ttrain-rmse:3.11563\tval-rmse:3.14085\n",
      "[5]\ttrain-rmse:2.71909\tval-rmse:2.77436\n",
      "[10]\ttrain-rmse:2.54197\tval-rmse:2.62635\n",
      "[15]\ttrain-rmse:2.44566\tval-rmse:2.56518\n",
      "[20]\ttrain-rmse:2.39140\tval-rmse:2.54468\n",
      "[25]\ttrain-rmse:2.34283\tval-rmse:2.53840\n",
      "[30]\ttrain-rmse:2.31517\tval-rmse:2.53405\n",
      "[35]\ttrain-rmse:2.29137\tval-rmse:2.53607\n",
      "[40]\ttrain-rmse:2.27154\tval-rmse:2.52864\n",
      "[45]\ttrain-rmse:2.23440\tval-rmse:2.53297\n",
      "[50]\ttrain-rmse:2.21899\tval-rmse:2.53273\n",
      "[55]\ttrain-rmse:2.19597\tval-rmse:2.53442\n",
      "[60]\ttrain-rmse:2.18177\tval-rmse:2.54029\n",
      "[65]\ttrain-rmse:2.16621\tval-rmse:2.54090\n",
      "[70]\ttrain-rmse:2.15387\tval-rmse:2.54374\n",
      "[75]\ttrain-rmse:2.13018\tval-rmse:2.54651\n",
      "[80]\ttrain-rmse:2.10784\tval-rmse:2.54932\n",
      "[85]\ttrain-rmse:2.09280\tval-rmse:2.55312\n",
      "[90]\ttrain-rmse:2.07489\tval-rmse:2.55128\n",
      "[95]\ttrain-rmse:2.05809\tval-rmse:2.55239\n",
      "[99]\ttrain-rmse:2.05057\tval-rmse:2.55554\n",
      "eta=0.1-max_depth=5\n",
      "[0]\ttrain-rmse:3.10758\tval-rmse:3.14304\n",
      "[5]\ttrain-rmse:2.66962\tval-rmse:2.76523\n",
      "[10]\ttrain-rmse:2.45908\tval-rmse:2.61570\n",
      "[15]\ttrain-rmse:2.34661\tval-rmse:2.56510\n",
      "[20]\ttrain-rmse:2.27098\tval-rmse:2.54677\n",
      "[25]\ttrain-rmse:2.20556\tval-rmse:2.53759\n",
      "[30]\ttrain-rmse:2.16103\tval-rmse:2.53288\n",
      "[35]\ttrain-rmse:2.12344\tval-rmse:2.54259\n",
      "[40]\ttrain-rmse:2.08946\tval-rmse:2.55279\n",
      "[45]\ttrain-rmse:2.05975\tval-rmse:2.55491\n",
      "[50]\ttrain-rmse:2.04083\tval-rmse:2.55314\n",
      "[55]\ttrain-rmse:2.01647\tval-rmse:2.55990\n",
      "[60]\ttrain-rmse:1.99023\tval-rmse:2.56170\n",
      "[65]\ttrain-rmse:1.96541\tval-rmse:2.57266\n",
      "[70]\ttrain-rmse:1.93307\tval-rmse:2.57807\n",
      "[75]\ttrain-rmse:1.90787\tval-rmse:2.58061\n",
      "[80]\ttrain-rmse:1.87480\tval-rmse:2.58160\n",
      "[85]\ttrain-rmse:1.85562\tval-rmse:2.58248\n",
      "[90]\ttrain-rmse:1.83293\tval-rmse:2.59005\n",
      "[95]\ttrain-rmse:1.80992\tval-rmse:2.59481\n",
      "[99]\ttrain-rmse:1.79016\tval-rmse:2.60171\n",
      "eta=0.1-max_depth=6\n",
      "[0]\ttrain-rmse:3.09484\tval-rmse:3.13654\n",
      "[5]\ttrain-rmse:2.60700\tval-rmse:2.75339\n",
      "[10]\ttrain-rmse:2.35999\tval-rmse:2.59903\n",
      "[15]\ttrain-rmse:2.22892\tval-rmse:2.54587\n",
      "[20]\ttrain-rmse:2.12908\tval-rmse:2.53280\n",
      "[25]\ttrain-rmse:2.05176\tval-rmse:2.53187\n",
      "[30]\ttrain-rmse:1.98766\tval-rmse:2.54632\n",
      "[35]\ttrain-rmse:1.94141\tval-rmse:2.55193\n",
      "[40]\ttrain-rmse:1.90174\tval-rmse:2.55265\n",
      "[45]\ttrain-rmse:1.86086\tval-rmse:2.55946\n",
      "[50]\ttrain-rmse:1.82655\tval-rmse:2.56196\n",
      "[55]\ttrain-rmse:1.78363\tval-rmse:2.56388\n",
      "[60]\ttrain-rmse:1.75069\tval-rmse:2.57132\n",
      "[65]\ttrain-rmse:1.71398\tval-rmse:2.58007\n",
      "[70]\ttrain-rmse:1.69093\tval-rmse:2.58297\n",
      "[75]\ttrain-rmse:1.65257\tval-rmse:2.59156\n",
      "[80]\ttrain-rmse:1.62109\tval-rmse:2.59785\n",
      "[85]\ttrain-rmse:1.59132\tval-rmse:2.60346\n",
      "[90]\ttrain-rmse:1.57025\tval-rmse:2.60743\n",
      "[95]\ttrain-rmse:1.53820\tval-rmse:2.61307\n",
      "[99]\ttrain-rmse:1.51339\tval-rmse:2.61688\n",
      "eta=0.1-max_depth=7\n",
      "[0]\ttrain-rmse:3.08381\tval-rmse:3.13951\n",
      "[5]\ttrain-rmse:2.54519\tval-rmse:2.76144\n",
      "[10]\ttrain-rmse:2.27139\tval-rmse:2.62126\n",
      "[15]\ttrain-rmse:2.09733\tval-rmse:2.57926\n",
      "[20]\ttrain-rmse:1.98503\tval-rmse:2.55812\n",
      "[25]\ttrain-rmse:1.88687\tval-rmse:2.56077\n",
      "[30]\ttrain-rmse:1.79433\tval-rmse:2.56612\n",
      "[35]\ttrain-rmse:1.71381\tval-rmse:2.57664\n",
      "[40]\ttrain-rmse:1.65683\tval-rmse:2.58915\n",
      "[45]\ttrain-rmse:1.61535\tval-rmse:2.59962\n",
      "[50]\ttrain-rmse:1.56535\tval-rmse:2.60528\n",
      "[55]\ttrain-rmse:1.53896\tval-rmse:2.61194\n",
      "[60]\ttrain-rmse:1.50143\tval-rmse:2.61615\n",
      "[65]\ttrain-rmse:1.45275\tval-rmse:2.62696\n",
      "[70]\ttrain-rmse:1.41483\tval-rmse:2.62959\n",
      "[75]\ttrain-rmse:1.37600\tval-rmse:2.63622\n",
      "[80]\ttrain-rmse:1.33806\tval-rmse:2.64045\n",
      "[85]\ttrain-rmse:1.30925\tval-rmse:2.64729\n",
      "[90]\ttrain-rmse:1.27356\tval-rmse:2.65582\n",
      "[95]\ttrain-rmse:1.23935\tval-rmse:2.66075\n",
      "[99]\ttrain-rmse:1.20721\tval-rmse:2.66679\n",
      "eta=0.1-max_depth=8\n",
      "[0]\ttrain-rmse:3.07235\tval-rmse:3.14260\n",
      "[5]\ttrain-rmse:2.48071\tval-rmse:2.76965\n",
      "[10]\ttrain-rmse:2.13647\tval-rmse:2.63873\n",
      "[15]\ttrain-rmse:1.93640\tval-rmse:2.59079\n",
      "[20]\ttrain-rmse:1.79765\tval-rmse:2.58143\n",
      "[25]\ttrain-rmse:1.67237\tval-rmse:2.59067\n",
      "[30]\ttrain-rmse:1.55347\tval-rmse:2.60394\n",
      "[35]\ttrain-rmse:1.46226\tval-rmse:2.61362\n",
      "[40]\ttrain-rmse:1.38360\tval-rmse:2.62451\n",
      "[45]\ttrain-rmse:1.32012\tval-rmse:2.63468\n",
      "[50]\ttrain-rmse:1.28026\tval-rmse:2.64460\n",
      "[55]\ttrain-rmse:1.23706\tval-rmse:2.65225\n",
      "[60]\ttrain-rmse:1.18371\tval-rmse:2.65333\n",
      "[65]\ttrain-rmse:1.13617\tval-rmse:2.65607\n",
      "[70]\ttrain-rmse:1.09884\tval-rmse:2.65943\n",
      "[75]\ttrain-rmse:1.06691\tval-rmse:2.66257\n",
      "[80]\ttrain-rmse:1.03245\tval-rmse:2.66484\n",
      "[85]\ttrain-rmse:0.99535\tval-rmse:2.66915\n",
      "[90]\ttrain-rmse:0.96391\tval-rmse:2.67161\n",
      "[95]\ttrain-rmse:0.92982\tval-rmse:2.67823\n",
      "[99]\ttrain-rmse:0.89873\tval-rmse:2.68400\n",
      "eta=0.1-max_depth=9\n",
      "[0]\ttrain-rmse:3.06039\tval-rmse:3.13668\n",
      "[5]\ttrain-rmse:2.41049\tval-rmse:2.78307\n",
      "[10]\ttrain-rmse:2.02886\tval-rmse:2.67024\n",
      "[15]\ttrain-rmse:1.77427\tval-rmse:2.63755\n",
      "[20]\ttrain-rmse:1.61206\tval-rmse:2.61841\n",
      "[25]\ttrain-rmse:1.48642\tval-rmse:2.62189\n",
      "[30]\ttrain-rmse:1.35877\tval-rmse:2.63604\n",
      "[35]\ttrain-rmse:1.25260\tval-rmse:2.64176\n",
      "[40]\ttrain-rmse:1.18433\tval-rmse:2.65187\n",
      "[45]\ttrain-rmse:1.11794\tval-rmse:2.66110\n",
      "[50]\ttrain-rmse:1.05241\tval-rmse:2.66743\n",
      "[55]\ttrain-rmse:1.00404\tval-rmse:2.67339\n",
      "[60]\ttrain-rmse:0.95588\tval-rmse:2.68135\n",
      "[65]\ttrain-rmse:0.90501\tval-rmse:2.68853\n",
      "[70]\ttrain-rmse:0.87680\tval-rmse:2.69059\n",
      "[75]\ttrain-rmse:0.83243\tval-rmse:2.69765\n",
      "[80]\ttrain-rmse:0.79868\tval-rmse:2.70410\n",
      "[85]\ttrain-rmse:0.75974\tval-rmse:2.70717\n",
      "[90]\ttrain-rmse:0.72483\tval-rmse:2.71119\n",
      "[95]\ttrain-rmse:0.69880\tval-rmse:2.71389\n",
      "[99]\ttrain-rmse:0.67709\tval-rmse:2.71561\n",
      "eta=0.1-max_depth=10\n",
      "[0]\ttrain-rmse:3.05118\tval-rmse:3.13692\n",
      "[5]\ttrain-rmse:2.35622\tval-rmse:2.79619\n",
      "[10]\ttrain-rmse:1.92387\tval-rmse:2.68235\n",
      "[15]\ttrain-rmse:1.62439\tval-rmse:2.66296\n",
      "[20]\ttrain-rmse:1.44292\tval-rmse:2.65373\n",
      "[25]\ttrain-rmse:1.31225\tval-rmse:2.66628\n"
     ]
    },
    {
     "name": "stdout",
     "output_type": "stream",
     "text": [
      "[30]\ttrain-rmse:1.20496\tval-rmse:2.67412\n",
      "[35]\ttrain-rmse:1.11435\tval-rmse:2.68519\n",
      "[40]\ttrain-rmse:1.03045\tval-rmse:2.69226\n",
      "[45]\ttrain-rmse:0.94156\tval-rmse:2.69443\n",
      "[50]\ttrain-rmse:0.86321\tval-rmse:2.70289\n",
      "[55]\ttrain-rmse:0.81440\tval-rmse:2.70959\n",
      "[60]\ttrain-rmse:0.77327\tval-rmse:2.71656\n",
      "[65]\ttrain-rmse:0.72575\tval-rmse:2.72272\n",
      "[70]\ttrain-rmse:0.68188\tval-rmse:2.72539\n",
      "[75]\ttrain-rmse:0.63757\tval-rmse:2.72847\n",
      "[80]\ttrain-rmse:0.59540\tval-rmse:2.73263\n",
      "[85]\ttrain-rmse:0.56178\tval-rmse:2.73699\n",
      "[90]\ttrain-rmse:0.52794\tval-rmse:2.74387\n",
      "[95]\ttrain-rmse:0.50202\tval-rmse:2.74416\n",
      "[99]\ttrain-rmse:0.49143\tval-rmse:2.74552\n",
      "eta=0.2-max_depth=1\n",
      "[0]\ttrain-rmse:3.09086\tval-rmse:3.11388\n",
      "[5]\ttrain-rmse:2.74766\tval-rmse:2.75650\n",
      "[10]\ttrain-rmse:2.62501\tval-rmse:2.64100\n",
      "[15]\ttrain-rmse:2.57534\tval-rmse:2.59995\n",
      "[20]\ttrain-rmse:2.55173\tval-rmse:2.57953\n",
      "[25]\ttrain-rmse:2.53985\tval-rmse:2.56979\n",
      "[30]\ttrain-rmse:2.53164\tval-rmse:2.56561\n",
      "[35]\ttrain-rmse:2.52531\tval-rmse:2.56262\n",
      "[40]\ttrain-rmse:2.51995\tval-rmse:2.56150\n",
      "[45]\ttrain-rmse:2.51505\tval-rmse:2.55962\n",
      "[50]\ttrain-rmse:2.51065\tval-rmse:2.55603\n",
      "[55]\ttrain-rmse:2.50667\tval-rmse:2.55503\n",
      "[60]\ttrain-rmse:2.50297\tval-rmse:2.55507\n",
      "[65]\ttrain-rmse:2.49961\tval-rmse:2.55384\n",
      "[70]\ttrain-rmse:2.49645\tval-rmse:2.55424\n",
      "[75]\ttrain-rmse:2.49354\tval-rmse:2.55433\n",
      "[80]\ttrain-rmse:2.49082\tval-rmse:2.55160\n",
      "[85]\ttrain-rmse:2.48823\tval-rmse:2.55135\n",
      "[90]\ttrain-rmse:2.48578\tval-rmse:2.55064\n",
      "[95]\ttrain-rmse:2.48342\tval-rmse:2.55091\n",
      "[99]\ttrain-rmse:2.48168\tval-rmse:2.55013\n",
      "eta=0.2-max_depth=2\n",
      "[0]\ttrain-rmse:3.03940\tval-rmse:3.06260\n",
      "[5]\ttrain-rmse:2.62290\tval-rmse:2.64024\n",
      "[10]\ttrain-rmse:2.52637\tval-rmse:2.56140\n",
      "[15]\ttrain-rmse:2.49224\tval-rmse:2.54039\n",
      "[20]\ttrain-rmse:2.46614\tval-rmse:2.53097\n",
      "[25]\ttrain-rmse:2.45051\tval-rmse:2.53255\n",
      "[30]\ttrain-rmse:2.43519\tval-rmse:2.52411\n",
      "[35]\ttrain-rmse:2.42220\tval-rmse:2.52155\n",
      "[40]\ttrain-rmse:2.40811\tval-rmse:2.52469\n",
      "[45]\ttrain-rmse:2.39626\tval-rmse:2.52794\n",
      "[50]\ttrain-rmse:2.38351\tval-rmse:2.53205\n",
      "[55]\ttrain-rmse:2.37065\tval-rmse:2.53368\n",
      "[60]\ttrain-rmse:2.35837\tval-rmse:2.53304\n",
      "[65]\ttrain-rmse:2.35046\tval-rmse:2.53392\n",
      "[70]\ttrain-rmse:2.33866\tval-rmse:2.53595\n",
      "[75]\ttrain-rmse:2.33068\tval-rmse:2.53855\n",
      "[80]\ttrain-rmse:2.32256\tval-rmse:2.54078\n",
      "[85]\ttrain-rmse:2.31208\tval-rmse:2.54223\n",
      "[90]\ttrain-rmse:2.30254\tval-rmse:2.54214\n",
      "[95]\ttrain-rmse:2.29558\tval-rmse:2.54421\n",
      "[99]\ttrain-rmse:2.28935\tval-rmse:2.54435\n",
      "eta=0.2-max_depth=3\n",
      "[0]\ttrain-rmse:3.01561\tval-rmse:3.03788\n",
      "[5]\ttrain-rmse:2.56647\tval-rmse:2.62038\n",
      "[10]\ttrain-rmse:2.46694\tval-rmse:2.54902\n",
      "[15]\ttrain-rmse:2.41291\tval-rmse:2.53003\n",
      "[20]\ttrain-rmse:2.38564\tval-rmse:2.52100\n",
      "[25]\ttrain-rmse:2.36104\tval-rmse:2.52227\n",
      "[30]\ttrain-rmse:2.34341\tval-rmse:2.52928\n",
      "[35]\ttrain-rmse:2.31836\tval-rmse:2.53898\n",
      "[40]\ttrain-rmse:2.29348\tval-rmse:2.53646\n",
      "[45]\ttrain-rmse:2.27540\tval-rmse:2.53974\n",
      "[50]\ttrain-rmse:2.25257\tval-rmse:2.54566\n",
      "[55]\ttrain-rmse:2.22732\tval-rmse:2.54712\n",
      "[60]\ttrain-rmse:2.21355\tval-rmse:2.54845\n",
      "[65]\ttrain-rmse:2.19139\tval-rmse:2.55349\n",
      "[70]\ttrain-rmse:2.17173\tval-rmse:2.55516\n",
      "[75]\ttrain-rmse:2.15878\tval-rmse:2.55686\n",
      "[80]\ttrain-rmse:2.13838\tval-rmse:2.55808\n",
      "[85]\ttrain-rmse:2.12357\tval-rmse:2.56240\n",
      "[90]\ttrain-rmse:2.11428\tval-rmse:2.56278\n",
      "[95]\ttrain-rmse:2.10084\tval-rmse:2.57020\n",
      "[99]\ttrain-rmse:2.09082\tval-rmse:2.57385\n",
      "eta=0.2-max_depth=4\n",
      "[0]\ttrain-rmse:2.99898\tval-rmse:3.02513\n",
      "[5]\ttrain-rmse:2.51161\tval-rmse:2.59855\n",
      "[10]\ttrain-rmse:2.37765\tval-rmse:2.53210\n",
      "[15]\ttrain-rmse:2.31099\tval-rmse:2.53793\n",
      "[20]\ttrain-rmse:2.26216\tval-rmse:2.54073\n",
      "[25]\ttrain-rmse:2.21626\tval-rmse:2.53495\n",
      "[30]\ttrain-rmse:2.17641\tval-rmse:2.54643\n",
      "[35]\ttrain-rmse:2.14343\tval-rmse:2.54897\n",
      "[40]\ttrain-rmse:2.11105\tval-rmse:2.56028\n",
      "[45]\ttrain-rmse:2.07829\tval-rmse:2.57202\n",
      "[50]\ttrain-rmse:2.04577\tval-rmse:2.57476\n",
      "[55]\ttrain-rmse:2.01347\tval-rmse:2.57865\n",
      "[60]\ttrain-rmse:1.98326\tval-rmse:2.58340\n",
      "[65]\ttrain-rmse:1.95259\tval-rmse:2.59042\n",
      "[70]\ttrain-rmse:1.92704\tval-rmse:2.59552\n",
      "[75]\ttrain-rmse:1.89811\tval-rmse:2.60136\n",
      "[80]\ttrain-rmse:1.87160\tval-rmse:2.61176\n",
      "[85]\ttrain-rmse:1.83884\tval-rmse:2.62483\n",
      "[90]\ttrain-rmse:1.81403\tval-rmse:2.63477\n",
      "[95]\ttrain-rmse:1.79354\tval-rmse:2.64242\n",
      "[99]\ttrain-rmse:1.77322\tval-rmse:2.64126\n",
      "eta=0.2-max_depth=5\n",
      "[0]\ttrain-rmse:2.98297\tval-rmse:3.03053\n",
      "[5]\ttrain-rmse:2.42364\tval-rmse:2.59204\n",
      "[10]\ttrain-rmse:2.25025\tval-rmse:2.55006\n",
      "[15]\ttrain-rmse:2.14852\tval-rmse:2.54608\n",
      "[20]\ttrain-rmse:2.09739\tval-rmse:2.55501\n",
      "[25]\ttrain-rmse:2.05943\tval-rmse:2.56077\n",
      "[30]\ttrain-rmse:1.99800\tval-rmse:2.57012\n",
      "[35]\ttrain-rmse:1.93968\tval-rmse:2.57965\n",
      "[40]\ttrain-rmse:1.87567\tval-rmse:2.59686\n",
      "[45]\ttrain-rmse:1.83392\tval-rmse:2.60291\n",
      "[50]\ttrain-rmse:1.77576\tval-rmse:2.61590\n",
      "[55]\ttrain-rmse:1.73560\tval-rmse:2.62575\n",
      "[60]\ttrain-rmse:1.70345\tval-rmse:2.63224\n",
      "[65]\ttrain-rmse:1.66504\tval-rmse:2.64154\n",
      "[70]\ttrain-rmse:1.62334\tval-rmse:2.64411\n",
      "[75]\ttrain-rmse:1.59010\tval-rmse:2.65769\n",
      "[80]\ttrain-rmse:1.55045\tval-rmse:2.66238\n",
      "[85]\ttrain-rmse:1.50858\tval-rmse:2.67220\n",
      "[90]\ttrain-rmse:1.47775\tval-rmse:2.67993\n",
      "[95]\ttrain-rmse:1.45356\tval-rmse:2.68307\n",
      "[99]\ttrain-rmse:1.43309\tval-rmse:2.68886\n",
      "eta=0.2-max_depth=6\n",
      "[0]\ttrain-rmse:2.95755\tval-rmse:3.01910\n",
      "[5]\ttrain-rmse:2.32799\tval-rmse:2.59677\n",
      "[10]\ttrain-rmse:2.10808\tval-rmse:2.54196\n",
      "[15]\ttrain-rmse:1.97259\tval-rmse:2.56200\n",
      "[20]\ttrain-rmse:1.90114\tval-rmse:2.56866\n",
      "[25]\ttrain-rmse:1.82992\tval-rmse:2.58731\n",
      "[30]\ttrain-rmse:1.75031\tval-rmse:2.59712\n",
      "[35]\ttrain-rmse:1.68326\tval-rmse:2.59746\n",
      "[40]\ttrain-rmse:1.60215\tval-rmse:2.61961\n",
      "[45]\ttrain-rmse:1.54840\tval-rmse:2.62952\n",
      "[50]\ttrain-rmse:1.45002\tval-rmse:2.64859\n",
      "[55]\ttrain-rmse:1.40389\tval-rmse:2.65471\n",
      "[60]\ttrain-rmse:1.37123\tval-rmse:2.66320\n",
      "[65]\ttrain-rmse:1.32126\tval-rmse:2.67447\n",
      "[70]\ttrain-rmse:1.28228\tval-rmse:2.67594\n",
      "[75]\ttrain-rmse:1.24545\tval-rmse:2.68467\n",
      "[80]\ttrain-rmse:1.20874\tval-rmse:2.68664\n",
      "[85]\ttrain-rmse:1.17775\tval-rmse:2.69164\n",
      "[90]\ttrain-rmse:1.14974\tval-rmse:2.69147\n",
      "[95]\ttrain-rmse:1.10844\tval-rmse:2.70283\n",
      "[99]\ttrain-rmse:1.07569\tval-rmse:2.71534\n",
      "eta=0.2-max_depth=7\n",
      "[0]\ttrain-rmse:2.93523\tval-rmse:3.02567\n",
      "[5]\ttrain-rmse:2.20653\tval-rmse:2.59685\n",
      "[10]\ttrain-rmse:1.93962\tval-rmse:2.57424\n",
      "[15]\ttrain-rmse:1.77976\tval-rmse:2.59457\n",
      "[20]\ttrain-rmse:1.66521\tval-rmse:2.61513\n",
      "[25]\ttrain-rmse:1.55551\tval-rmse:2.63578\n",
      "[30]\ttrain-rmse:1.50637\tval-rmse:2.64700\n",
      "[35]\ttrain-rmse:1.44804\tval-rmse:2.65841\n",
      "[40]\ttrain-rmse:1.34675\tval-rmse:2.68061\n",
      "[45]\ttrain-rmse:1.30541\tval-rmse:2.68909\n",
      "[50]\ttrain-rmse:1.22221\tval-rmse:2.70187\n",
      "[55]\ttrain-rmse:1.17226\tval-rmse:2.70976\n",
      "[60]\ttrain-rmse:1.10145\tval-rmse:2.71381\n",
      "[65]\ttrain-rmse:1.05301\tval-rmse:2.72413\n",
      "[70]\ttrain-rmse:1.00337\tval-rmse:2.73282\n",
      "[75]\ttrain-rmse:0.96253\tval-rmse:2.73833\n",
      "[80]\ttrain-rmse:0.91504\tval-rmse:2.74424\n",
      "[85]\ttrain-rmse:0.87960\tval-rmse:2.75078\n",
      "[90]\ttrain-rmse:0.83830\tval-rmse:2.75725\n",
      "[95]\ttrain-rmse:0.79176\tval-rmse:2.75994\n",
      "[99]\ttrain-rmse:0.75623\tval-rmse:2.76905\n",
      "eta=0.2-max_depth=8\n",
      "[0]\ttrain-rmse:2.91192\tval-rmse:3.03312\n",
      "[5]\ttrain-rmse:2.06709\tval-rmse:2.62589\n",
      "[10]\ttrain-rmse:1.76815\tval-rmse:2.59445\n",
      "[15]\ttrain-rmse:1.50776\tval-rmse:2.62778\n",
      "[20]\ttrain-rmse:1.36820\tval-rmse:2.64957\n",
      "[25]\ttrain-rmse:1.25891\tval-rmse:2.66347\n",
      "[30]\ttrain-rmse:1.15128\tval-rmse:2.68268\n",
      "[35]\ttrain-rmse:1.08673\tval-rmse:2.69908\n",
      "[40]\ttrain-rmse:1.00179\tval-rmse:2.70993\n",
      "[45]\ttrain-rmse:0.96158\tval-rmse:2.71910\n",
      "[50]\ttrain-rmse:0.87616\tval-rmse:2.73288\n",
      "[55]\ttrain-rmse:0.81292\tval-rmse:2.73745\n",
      "[60]\ttrain-rmse:0.75124\tval-rmse:2.74853\n",
      "[65]\ttrain-rmse:0.70349\tval-rmse:2.76020\n",
      "[70]\ttrain-rmse:0.67502\tval-rmse:2.76732\n",
      "[75]\ttrain-rmse:0.63846\tval-rmse:2.77449\n",
      "[80]\ttrain-rmse:0.60941\tval-rmse:2.77951\n",
      "[85]\ttrain-rmse:0.55557\tval-rmse:2.78711\n",
      "[90]\ttrain-rmse:0.53359\tval-rmse:2.78748\n",
      "[95]\ttrain-rmse:0.48888\tval-rmse:2.78620\n",
      "[99]\ttrain-rmse:0.47241\tval-rmse:2.78854\n",
      "eta=0.2-max_depth=9\n",
      "[0]\ttrain-rmse:2.88763\tval-rmse:3.02155\n",
      "[5]\ttrain-rmse:1.96726\tval-rmse:2.63358\n",
      "[10]\ttrain-rmse:1.59459\tval-rmse:2.60032\n",
      "[15]\ttrain-rmse:1.33509\tval-rmse:2.61790\n",
      "[20]\ttrain-rmse:1.16755\tval-rmse:2.64167\n",
      "[25]\ttrain-rmse:1.07295\tval-rmse:2.65638\n",
      "[30]\ttrain-rmse:0.99255\tval-rmse:2.66602\n",
      "[35]\ttrain-rmse:0.91414\tval-rmse:2.67856\n",
      "[40]\ttrain-rmse:0.84752\tval-rmse:2.69310\n",
      "[45]\ttrain-rmse:0.77623\tval-rmse:2.70077\n",
      "[50]\ttrain-rmse:0.67982\tval-rmse:2.71817\n",
      "[55]\ttrain-rmse:0.61698\tval-rmse:2.72750\n"
     ]
    },
    {
     "name": "stdout",
     "output_type": "stream",
     "text": [
      "[60]\ttrain-rmse:0.57657\tval-rmse:2.73174\n",
      "[65]\ttrain-rmse:0.53175\tval-rmse:2.73951\n",
      "[70]\ttrain-rmse:0.50171\tval-rmse:2.73971\n",
      "[75]\ttrain-rmse:0.47837\tval-rmse:2.74286\n",
      "[80]\ttrain-rmse:0.44433\tval-rmse:2.74928\n",
      "[85]\ttrain-rmse:0.41219\tval-rmse:2.74928\n",
      "[90]\ttrain-rmse:0.38900\tval-rmse:2.74737\n",
      "[95]\ttrain-rmse:0.35408\tval-rmse:2.75023\n",
      "[99]\ttrain-rmse:0.33048\tval-rmse:2.75452\n",
      "eta=0.2-max_depth=10\n",
      "[0]\ttrain-rmse:2.86868\tval-rmse:3.02299\n",
      "[5]\ttrain-rmse:1.85761\tval-rmse:2.66185\n",
      "[10]\ttrain-rmse:1.41504\tval-rmse:2.62108\n",
      "[15]\ttrain-rmse:1.12577\tval-rmse:2.65056\n",
      "[20]\ttrain-rmse:0.97850\tval-rmse:2.67894\n",
      "[25]\ttrain-rmse:0.85569\tval-rmse:2.69455\n",
      "[30]\ttrain-rmse:0.76243\tval-rmse:2.70926\n",
      "[35]\ttrain-rmse:0.68946\tval-rmse:2.71842\n",
      "[40]\ttrain-rmse:0.62104\tval-rmse:2.72947\n",
      "[45]\ttrain-rmse:0.55313\tval-rmse:2.74251\n",
      "[50]\ttrain-rmse:0.49016\tval-rmse:2.75016\n",
      "[55]\ttrain-rmse:0.41629\tval-rmse:2.75489\n",
      "[60]\ttrain-rmse:0.35652\tval-rmse:2.75870\n",
      "[65]\ttrain-rmse:0.32704\tval-rmse:2.76035\n",
      "[70]\ttrain-rmse:0.29328\tval-rmse:2.76322\n",
      "[75]\ttrain-rmse:0.26662\tval-rmse:2.76369\n",
      "[80]\ttrain-rmse:0.24292\tval-rmse:2.76383\n",
      "[85]\ttrain-rmse:0.21819\tval-rmse:2.76419\n",
      "[90]\ttrain-rmse:0.19959\tval-rmse:2.76485\n",
      "[95]\ttrain-rmse:0.18374\tval-rmse:2.76513\n",
      "[99]\ttrain-rmse:0.16346\tval-rmse:2.76505\n",
      "eta=0.3-max_depth=1\n",
      "[0]\ttrain-rmse:3.02615\tval-rmse:3.04865\n",
      "[5]\ttrain-rmse:2.65835\tval-rmse:2.66735\n",
      "[10]\ttrain-rmse:2.57405\tval-rmse:2.59836\n",
      "[15]\ttrain-rmse:2.54722\tval-rmse:2.57491\n",
      "[20]\ttrain-rmse:2.53326\tval-rmse:2.56655\n",
      "[25]\ttrain-rmse:2.52360\tval-rmse:2.56209\n",
      "[30]\ttrain-rmse:2.51627\tval-rmse:2.55979\n",
      "[35]\ttrain-rmse:2.50981\tval-rmse:2.55706\n",
      "[40]\ttrain-rmse:2.50407\tval-rmse:2.55450\n",
      "[45]\ttrain-rmse:2.49915\tval-rmse:2.55528\n",
      "[50]\ttrain-rmse:2.49458\tval-rmse:2.55215\n",
      "[55]\ttrain-rmse:2.49046\tval-rmse:2.55154\n",
      "[60]\ttrain-rmse:2.48668\tval-rmse:2.55148\n",
      "[65]\ttrain-rmse:2.48303\tval-rmse:2.55108\n",
      "[70]\ttrain-rmse:2.47963\tval-rmse:2.55011\n",
      "[75]\ttrain-rmse:2.47657\tval-rmse:2.54954\n",
      "[80]\ttrain-rmse:2.47370\tval-rmse:2.55087\n",
      "[85]\ttrain-rmse:2.47102\tval-rmse:2.55009\n",
      "[90]\ttrain-rmse:2.46848\tval-rmse:2.55050\n",
      "[95]\ttrain-rmse:2.46622\tval-rmse:2.55138\n",
      "[99]\ttrain-rmse:2.46431\tval-rmse:2.55184\n",
      "eta=0.3-max_depth=2\n",
      "[0]\ttrain-rmse:2.95133\tval-rmse:2.97446\n",
      "[5]\ttrain-rmse:2.54583\tval-rmse:2.59222\n",
      "[10]\ttrain-rmse:2.48508\tval-rmse:2.54671\n",
      "[15]\ttrain-rmse:2.45705\tval-rmse:2.53694\n",
      "[20]\ttrain-rmse:2.43762\tval-rmse:2.53808\n",
      "[25]\ttrain-rmse:2.41521\tval-rmse:2.53916\n",
      "[30]\ttrain-rmse:2.39687\tval-rmse:2.54485\n",
      "[35]\ttrain-rmse:2.38304\tval-rmse:2.54890\n",
      "[40]\ttrain-rmse:2.36954\tval-rmse:2.55491\n",
      "[45]\ttrain-rmse:2.35330\tval-rmse:2.55196\n",
      "[50]\ttrain-rmse:2.34188\tval-rmse:2.55461\n",
      "[55]\ttrain-rmse:2.32750\tval-rmse:2.55435\n",
      "[60]\ttrain-rmse:2.31809\tval-rmse:2.55369\n",
      "[65]\ttrain-rmse:2.30368\tval-rmse:2.55487\n",
      "[70]\ttrain-rmse:2.29501\tval-rmse:2.55236\n",
      "[75]\ttrain-rmse:2.28420\tval-rmse:2.55328\n",
      "[80]\ttrain-rmse:2.27636\tval-rmse:2.55486\n",
      "[85]\ttrain-rmse:2.26328\tval-rmse:2.56134\n",
      "[90]\ttrain-rmse:2.25192\tval-rmse:2.56295\n",
      "[95]\ttrain-rmse:2.24267\tval-rmse:2.56207\n",
      "[99]\ttrain-rmse:2.23689\tval-rmse:2.56332\n",
      "eta=0.3-max_depth=3\n",
      "[0]\ttrain-rmse:2.91645\tval-rmse:2.93799\n",
      "[5]\ttrain-rmse:2.48525\tval-rmse:2.56187\n",
      "[10]\ttrain-rmse:2.40722\tval-rmse:2.52797\n",
      "[15]\ttrain-rmse:2.36670\tval-rmse:2.52681\n",
      "[20]\ttrain-rmse:2.34395\tval-rmse:2.53146\n",
      "[25]\ttrain-rmse:2.30546\tval-rmse:2.54300\n",
      "[30]\ttrain-rmse:2.27033\tval-rmse:2.54428\n",
      "[35]\ttrain-rmse:2.24653\tval-rmse:2.54486\n",
      "[40]\ttrain-rmse:2.21620\tval-rmse:2.55417\n",
      "[45]\ttrain-rmse:2.18957\tval-rmse:2.55928\n",
      "[50]\ttrain-rmse:2.16303\tval-rmse:2.57099\n",
      "[55]\ttrain-rmse:2.14018\tval-rmse:2.56719\n",
      "[60]\ttrain-rmse:2.10826\tval-rmse:2.58159\n",
      "[65]\ttrain-rmse:2.08501\tval-rmse:2.58167\n",
      "[70]\ttrain-rmse:2.06898\tval-rmse:2.58193\n",
      "[75]\ttrain-rmse:2.05477\tval-rmse:2.59581\n",
      "[80]\ttrain-rmse:2.03732\tval-rmse:2.60380\n",
      "[85]\ttrain-rmse:2.01513\tval-rmse:2.60426\n",
      "[90]\ttrain-rmse:1.99696\tval-rmse:2.60481\n",
      "[95]\ttrain-rmse:1.97692\tval-rmse:2.60590\n",
      "[99]\ttrain-rmse:1.95974\tval-rmse:2.60612\n",
      "eta=0.3-max_depth=4\n",
      "[0]\ttrain-rmse:2.89198\tval-rmse:2.91992\n",
      "[5]\ttrain-rmse:2.43179\tval-rmse:2.54667\n",
      "[10]\ttrain-rmse:2.30718\tval-rmse:2.52248\n",
      "[15]\ttrain-rmse:2.25702\tval-rmse:2.52057\n",
      "[20]\ttrain-rmse:2.17640\tval-rmse:2.53416\n",
      "[25]\ttrain-rmse:2.11253\tval-rmse:2.54491\n",
      "[30]\ttrain-rmse:2.04696\tval-rmse:2.56726\n",
      "[35]\ttrain-rmse:2.01282\tval-rmse:2.57309\n",
      "[40]\ttrain-rmse:1.97443\tval-rmse:2.58246\n",
      "[45]\ttrain-rmse:1.94117\tval-rmse:2.59694\n",
      "[50]\ttrain-rmse:1.90229\tval-rmse:2.60060\n",
      "[55]\ttrain-rmse:1.87160\tval-rmse:2.59979\n",
      "[60]\ttrain-rmse:1.82434\tval-rmse:2.61245\n",
      "[65]\ttrain-rmse:1.77616\tval-rmse:2.62392\n",
      "[70]\ttrain-rmse:1.74230\tval-rmse:2.62171\n",
      "[75]\ttrain-rmse:1.71681\tval-rmse:2.62676\n",
      "[80]\ttrain-rmse:1.67244\tval-rmse:2.64345\n",
      "[85]\ttrain-rmse:1.64777\tval-rmse:2.65311\n",
      "[90]\ttrain-rmse:1.60986\tval-rmse:2.66455\n",
      "[95]\ttrain-rmse:1.57273\tval-rmse:2.68227\n",
      "[99]\ttrain-rmse:1.55294\tval-rmse:2.67978\n",
      "eta=0.3-max_depth=5\n",
      "[0]\ttrain-rmse:2.86819\tval-rmse:2.92963\n",
      "[5]\ttrain-rmse:2.32415\tval-rmse:2.54492\n",
      "[10]\ttrain-rmse:2.14887\tval-rmse:2.53289\n",
      "[15]\ttrain-rmse:2.07402\tval-rmse:2.55137\n",
      "[20]\ttrain-rmse:1.98099\tval-rmse:2.57603\n",
      "[25]\ttrain-rmse:1.89854\tval-rmse:2.60353\n",
      "[30]\ttrain-rmse:1.81895\tval-rmse:2.62275\n",
      "[35]\ttrain-rmse:1.74640\tval-rmse:2.64169\n",
      "[40]\ttrain-rmse:1.68517\tval-rmse:2.64804\n",
      "[45]\ttrain-rmse:1.64200\tval-rmse:2.64197\n",
      "[50]\ttrain-rmse:1.57507\tval-rmse:2.65027\n",
      "[55]\ttrain-rmse:1.53143\tval-rmse:2.65813\n",
      "[60]\ttrain-rmse:1.49006\tval-rmse:2.66935\n",
      "[65]\ttrain-rmse:1.45938\tval-rmse:2.67856\n",
      "[70]\ttrain-rmse:1.40444\tval-rmse:2.69452\n",
      "[75]\ttrain-rmse:1.37855\tval-rmse:2.70426\n",
      "[80]\ttrain-rmse:1.34893\tval-rmse:2.71086\n",
      "[85]\ttrain-rmse:1.29668\tval-rmse:2.72840\n",
      "[90]\ttrain-rmse:1.25681\tval-rmse:2.72959\n",
      "[95]\ttrain-rmse:1.21398\tval-rmse:2.72938\n",
      "[99]\ttrain-rmse:1.19116\tval-rmse:2.73392\n",
      "eta=0.3-max_depth=6\n",
      "[0]\ttrain-rmse:2.83026\tval-rmse:2.91506\n",
      "[5]\ttrain-rmse:2.17574\tval-rmse:2.55821\n",
      "[10]\ttrain-rmse:1.94951\tval-rmse:2.56835\n",
      "[15]\ttrain-rmse:1.85383\tval-rmse:2.60581\n",
      "[20]\ttrain-rmse:1.73486\tval-rmse:2.63040\n",
      "[25]\ttrain-rmse:1.61256\tval-rmse:2.66294\n",
      "[30]\ttrain-rmse:1.53811\tval-rmse:2.67867\n",
      "[35]\ttrain-rmse:1.43763\tval-rmse:2.70772\n",
      "[40]\ttrain-rmse:1.35083\tval-rmse:2.72581\n",
      "[45]\ttrain-rmse:1.27505\tval-rmse:2.74588\n",
      "[50]\ttrain-rmse:1.22785\tval-rmse:2.75858\n",
      "[55]\ttrain-rmse:1.15921\tval-rmse:2.77537\n",
      "[60]\ttrain-rmse:1.08078\tval-rmse:2.79338\n",
      "[65]\ttrain-rmse:1.01788\tval-rmse:2.80782\n",
      "[70]\ttrain-rmse:0.96376\tval-rmse:2.80908\n",
      "[75]\ttrain-rmse:0.91570\tval-rmse:2.81295\n",
      "[80]\ttrain-rmse:0.85802\tval-rmse:2.81504\n",
      "[85]\ttrain-rmse:0.82252\tval-rmse:2.81684\n",
      "[90]\ttrain-rmse:0.78902\tval-rmse:2.81999\n",
      "[95]\ttrain-rmse:0.74538\tval-rmse:2.82043\n",
      "[99]\ttrain-rmse:0.72184\tval-rmse:2.82374\n",
      "eta=0.3-max_depth=7\n",
      "[0]\ttrain-rmse:2.79649\tval-rmse:2.92589\n",
      "[5]\ttrain-rmse:2.00928\tval-rmse:2.58203\n",
      "[10]\ttrain-rmse:1.75603\tval-rmse:2.62525\n",
      "[15]\ttrain-rmse:1.61631\tval-rmse:2.65592\n",
      "[20]\ttrain-rmse:1.51224\tval-rmse:2.65970\n",
      "[25]\ttrain-rmse:1.35013\tval-rmse:2.67354\n",
      "[30]\ttrain-rmse:1.22521\tval-rmse:2.68799\n",
      "[35]\ttrain-rmse:1.12010\tval-rmse:2.69873\n",
      "[40]\ttrain-rmse:1.03373\tval-rmse:2.71398\n",
      "[45]\ttrain-rmse:0.95951\tval-rmse:2.73097\n",
      "[50]\ttrain-rmse:0.89501\tval-rmse:2.73980\n",
      "[55]\ttrain-rmse:0.82032\tval-rmse:2.74786\n",
      "[60]\ttrain-rmse:0.75575\tval-rmse:2.76342\n",
      "[65]\ttrain-rmse:0.72806\tval-rmse:2.76844\n",
      "[70]\ttrain-rmse:0.67376\tval-rmse:2.78272\n",
      "[75]\ttrain-rmse:0.63856\tval-rmse:2.79089\n",
      "[80]\ttrain-rmse:0.57576\tval-rmse:2.79351\n",
      "[85]\ttrain-rmse:0.52533\tval-rmse:2.80235\n",
      "[90]\ttrain-rmse:0.50650\tval-rmse:2.80551\n",
      "[95]\ttrain-rmse:0.47238\tval-rmse:2.81188\n",
      "[99]\ttrain-rmse:0.44207\tval-rmse:2.81261\n",
      "eta=0.3-max_depth=8\n",
      "[0]\ttrain-rmse:2.76100\tval-rmse:2.93903\n",
      "[5]\ttrain-rmse:1.86195\tval-rmse:2.63951\n",
      "[10]\ttrain-rmse:1.51901\tval-rmse:2.65177\n",
      "[15]\ttrain-rmse:1.32855\tval-rmse:2.67877\n",
      "[20]\ttrain-rmse:1.17547\tval-rmse:2.69191\n",
      "[25]\ttrain-rmse:1.04308\tval-rmse:2.72125\n",
      "[30]\ttrain-rmse:0.94292\tval-rmse:2.73137\n",
      "[35]\ttrain-rmse:0.83326\tval-rmse:2.74625\n",
      "[40]\ttrain-rmse:0.77032\tval-rmse:2.75664\n",
      "[45]\ttrain-rmse:0.68007\tval-rmse:2.77366\n",
      "[50]\ttrain-rmse:0.61035\tval-rmse:2.78730\n",
      "[55]\ttrain-rmse:0.57024\tval-rmse:2.79844\n",
      "[60]\ttrain-rmse:0.50552\tval-rmse:2.80723\n",
      "[65]\ttrain-rmse:0.45312\tval-rmse:2.81407\n",
      "[70]\ttrain-rmse:0.40023\tval-rmse:2.81916\n",
      "[75]\ttrain-rmse:0.35916\tval-rmse:2.82045\n",
      "[80]\ttrain-rmse:0.32225\tval-rmse:2.82314\n",
      "[85]\ttrain-rmse:0.29235\tval-rmse:2.82667\n",
      "[90]\ttrain-rmse:0.27374\tval-rmse:2.82906\n"
     ]
    },
    {
     "name": "stdout",
     "output_type": "stream",
     "text": [
      "[95]\ttrain-rmse:0.25275\tval-rmse:2.83012\n",
      "[99]\ttrain-rmse:0.23422\tval-rmse:2.83279\n",
      "eta=0.3-max_depth=9\n",
      "[0]\ttrain-rmse:2.72407\tval-rmse:2.92222\n",
      "[5]\ttrain-rmse:1.65907\tval-rmse:2.66328\n",
      "[10]\ttrain-rmse:1.31196\tval-rmse:2.69416\n",
      "[15]\ttrain-rmse:1.08104\tval-rmse:2.74327\n",
      "[20]\ttrain-rmse:0.92782\tval-rmse:2.77349\n",
      "[25]\ttrain-rmse:0.81187\tval-rmse:2.77886\n",
      "[30]\ttrain-rmse:0.72566\tval-rmse:2.78244\n",
      "[35]\ttrain-rmse:0.60832\tval-rmse:2.79373\n",
      "[40]\ttrain-rmse:0.52153\tval-rmse:2.79905\n",
      "[45]\ttrain-rmse:0.47231\tval-rmse:2.80490\n",
      "[50]\ttrain-rmse:0.41654\tval-rmse:2.80594\n",
      "[55]\ttrain-rmse:0.36403\tval-rmse:2.80789\n",
      "[60]\ttrain-rmse:0.33769\tval-rmse:2.80963\n",
      "[65]\ttrain-rmse:0.30120\tval-rmse:2.81495\n",
      "[70]\ttrain-rmse:0.26334\tval-rmse:2.81675\n",
      "[75]\ttrain-rmse:0.23273\tval-rmse:2.81774\n",
      "[80]\ttrain-rmse:0.20644\tval-rmse:2.82212\n",
      "[85]\ttrain-rmse:0.18428\tval-rmse:2.82354\n",
      "[90]\ttrain-rmse:0.16334\tval-rmse:2.82508\n",
      "[95]\ttrain-rmse:0.15146\tval-rmse:2.82450\n",
      "[99]\ttrain-rmse:0.13433\tval-rmse:2.82660\n",
      "eta=0.3-max_depth=10\n",
      "[0]\ttrain-rmse:2.69482\tval-rmse:2.92592\n",
      "[5]\ttrain-rmse:1.51031\tval-rmse:2.67657\n",
      "[10]\ttrain-rmse:1.11179\tval-rmse:2.69592\n",
      "[15]\ttrain-rmse:0.82804\tval-rmse:2.73663\n",
      "[20]\ttrain-rmse:0.66691\tval-rmse:2.74894\n",
      "[25]\ttrain-rmse:0.58232\tval-rmse:2.75747\n",
      "[30]\ttrain-rmse:0.45791\tval-rmse:2.76563\n",
      "[35]\ttrain-rmse:0.37269\tval-rmse:2.77381\n",
      "[40]\ttrain-rmse:0.31818\tval-rmse:2.77818\n",
      "[45]\ttrain-rmse:0.28106\tval-rmse:2.78252\n",
      "[50]\ttrain-rmse:0.23946\tval-rmse:2.78795\n",
      "[55]\ttrain-rmse:0.20424\tval-rmse:2.79135\n",
      "[60]\ttrain-rmse:0.18213\tval-rmse:2.79457\n",
      "[65]\ttrain-rmse:0.14740\tval-rmse:2.79569\n",
      "[70]\ttrain-rmse:0.13189\tval-rmse:2.79798\n",
      "[75]\ttrain-rmse:0.11085\tval-rmse:2.79980\n",
      "[80]\ttrain-rmse:0.09314\tval-rmse:2.80200\n",
      "[85]\ttrain-rmse:0.08000\tval-rmse:2.80356\n",
      "[90]\ttrain-rmse:0.06750\tval-rmse:2.80384\n",
      "[95]\ttrain-rmse:0.06046\tval-rmse:2.80437\n",
      "[99]\ttrain-rmse:0.05397\tval-rmse:2.80450\n",
      "eta=0.4-max_depth=1\n",
      "[0]\ttrain-rmse:2.96891\tval-rmse:2.99127\n",
      "[5]\ttrain-rmse:2.60519\tval-rmse:2.62570\n",
      "[10]\ttrain-rmse:2.55263\tval-rmse:2.58256\n",
      "[15]\ttrain-rmse:2.53693\tval-rmse:2.57686\n",
      "[20]\ttrain-rmse:2.52604\tval-rmse:2.57082\n",
      "[25]\ttrain-rmse:2.51619\tval-rmse:2.56933\n",
      "[30]\ttrain-rmse:2.50879\tval-rmse:2.56535\n",
      "[35]\ttrain-rmse:2.50197\tval-rmse:2.55947\n",
      "[40]\ttrain-rmse:2.49663\tval-rmse:2.56205\n",
      "[45]\ttrain-rmse:2.49170\tval-rmse:2.55756\n",
      "[50]\ttrain-rmse:2.48710\tval-rmse:2.55622\n",
      "[55]\ttrain-rmse:2.48309\tval-rmse:2.55598\n",
      "[60]\ttrain-rmse:2.47949\tval-rmse:2.55549\n",
      "[65]\ttrain-rmse:2.47615\tval-rmse:2.55440\n",
      "[70]\ttrain-rmse:2.47314\tval-rmse:2.55500\n",
      "[75]\ttrain-rmse:2.47002\tval-rmse:2.55475\n",
      "[80]\ttrain-rmse:2.46732\tval-rmse:2.55570\n",
      "[85]\ttrain-rmse:2.46475\tval-rmse:2.55553\n",
      "[90]\ttrain-rmse:2.46243\tval-rmse:2.55698\n",
      "[95]\ttrain-rmse:2.46010\tval-rmse:2.55775\n",
      "[99]\ttrain-rmse:2.45838\tval-rmse:2.55912\n",
      "eta=0.4-max_depth=2\n",
      "[0]\ttrain-rmse:2.87275\tval-rmse:2.89647\n",
      "[5]\ttrain-rmse:2.51620\tval-rmse:2.56421\n",
      "[10]\ttrain-rmse:2.46698\tval-rmse:2.54259\n",
      "[15]\ttrain-rmse:2.42679\tval-rmse:2.54946\n",
      "[20]\ttrain-rmse:2.40531\tval-rmse:2.55133\n",
      "[25]\ttrain-rmse:2.38254\tval-rmse:2.55636\n",
      "[30]\ttrain-rmse:2.35882\tval-rmse:2.56225\n",
      "[35]\ttrain-rmse:2.33964\tval-rmse:2.56571\n",
      "[40]\ttrain-rmse:2.32138\tval-rmse:2.56566\n",
      "[45]\ttrain-rmse:2.30321\tval-rmse:2.57211\n",
      "[50]\ttrain-rmse:2.28941\tval-rmse:2.58143\n",
      "[55]\ttrain-rmse:2.27102\tval-rmse:2.58044\n",
      "[60]\ttrain-rmse:2.26002\tval-rmse:2.58234\n",
      "[65]\ttrain-rmse:2.24826\tval-rmse:2.58946\n",
      "[70]\ttrain-rmse:2.23661\tval-rmse:2.59148\n",
      "[75]\ttrain-rmse:2.22427\tval-rmse:2.58647\n",
      "[80]\ttrain-rmse:2.21652\tval-rmse:2.58663\n",
      "[85]\ttrain-rmse:2.20373\tval-rmse:2.59421\n",
      "[90]\ttrain-rmse:2.19015\tval-rmse:2.58712\n",
      "[95]\ttrain-rmse:2.18139\tval-rmse:2.58746\n",
      "[99]\ttrain-rmse:2.17574\tval-rmse:2.58629\n",
      "eta=0.4-max_depth=3\n",
      "[0]\ttrain-rmse:2.82758\tval-rmse:2.84888\n",
      "[5]\ttrain-rmse:2.44215\tval-rmse:2.55523\n",
      "[10]\ttrain-rmse:2.37788\tval-rmse:2.54295\n",
      "[15]\ttrain-rmse:2.33823\tval-rmse:2.56124\n",
      "[20]\ttrain-rmse:2.28053\tval-rmse:2.57583\n",
      "[25]\ttrain-rmse:2.23835\tval-rmse:2.59370\n",
      "[30]\ttrain-rmse:2.20303\tval-rmse:2.61199\n",
      "[35]\ttrain-rmse:2.17590\tval-rmse:2.61519\n",
      "[40]\ttrain-rmse:2.12967\tval-rmse:2.62153\n",
      "[45]\ttrain-rmse:2.09751\tval-rmse:2.62315\n",
      "[50]\ttrain-rmse:2.06957\tval-rmse:2.63073\n",
      "[55]\ttrain-rmse:2.04984\tval-rmse:2.63830\n",
      "[60]\ttrain-rmse:2.02608\tval-rmse:2.64589\n",
      "[65]\ttrain-rmse:1.99928\tval-rmse:2.65871\n",
      "[70]\ttrain-rmse:1.96896\tval-rmse:2.67088\n",
      "[75]\ttrain-rmse:1.94216\tval-rmse:2.66248\n",
      "[80]\ttrain-rmse:1.91810\tval-rmse:2.66809\n",
      "[85]\ttrain-rmse:1.90505\tval-rmse:2.67475\n",
      "[90]\ttrain-rmse:1.88550\tval-rmse:2.67930\n",
      "[95]\ttrain-rmse:1.86080\tval-rmse:2.68691\n",
      "[99]\ttrain-rmse:1.84194\tval-rmse:2.68661\n",
      "eta=0.4-max_depth=4\n",
      "[0]\ttrain-rmse:2.79572\tval-rmse:2.82637\n",
      "[5]\ttrain-rmse:2.38475\tval-rmse:2.52305\n",
      "[10]\ttrain-rmse:2.28364\tval-rmse:2.54920\n",
      "[15]\ttrain-rmse:2.21997\tval-rmse:2.57808\n",
      "[20]\ttrain-rmse:2.13672\tval-rmse:2.57566\n",
      "[25]\ttrain-rmse:2.08183\tval-rmse:2.58500\n",
      "[30]\ttrain-rmse:2.02578\tval-rmse:2.58735\n",
      "[35]\ttrain-rmse:1.94913\tval-rmse:2.61535\n",
      "[40]\ttrain-rmse:1.89673\tval-rmse:2.62075\n",
      "[45]\ttrain-rmse:1.84231\tval-rmse:2.62178\n",
      "[50]\ttrain-rmse:1.80035\tval-rmse:2.63381\n",
      "[55]\ttrain-rmse:1.76029\tval-rmse:2.64502\n",
      "[60]\ttrain-rmse:1.71056\tval-rmse:2.65998\n",
      "[65]\ttrain-rmse:1.66666\tval-rmse:2.68320\n",
      "[70]\ttrain-rmse:1.62995\tval-rmse:2.69059\n",
      "[75]\ttrain-rmse:1.59986\tval-rmse:2.70490\n",
      "[80]\ttrain-rmse:1.55674\tval-rmse:2.71307\n",
      "[85]\ttrain-rmse:1.52548\tval-rmse:2.70995\n",
      "[90]\ttrain-rmse:1.48811\tval-rmse:2.70927\n",
      "[95]\ttrain-rmse:1.45540\tval-rmse:2.70762\n",
      "[99]\ttrain-rmse:1.43416\tval-rmse:2.71355\n",
      "eta=0.4-max_depth=5\n",
      "[0]\ttrain-rmse:2.76446\tval-rmse:2.84157\n",
      "[5]\ttrain-rmse:2.24798\tval-rmse:2.54450\n",
      "[10]\ttrain-rmse:2.13864\tval-rmse:2.55647\n",
      "[15]\ttrain-rmse:2.01792\tval-rmse:2.57870\n",
      "[20]\ttrain-rmse:1.90717\tval-rmse:2.62662\n",
      "[25]\ttrain-rmse:1.81754\tval-rmse:2.65532\n",
      "[30]\ttrain-rmse:1.69559\tval-rmse:2.67703\n",
      "[35]\ttrain-rmse:1.61829\tval-rmse:2.70660\n",
      "[40]\ttrain-rmse:1.53185\tval-rmse:2.74520\n",
      "[45]\ttrain-rmse:1.46160\tval-rmse:2.76757\n",
      "[50]\ttrain-rmse:1.39288\tval-rmse:2.78859\n",
      "[55]\ttrain-rmse:1.35928\tval-rmse:2.79610\n",
      "[60]\ttrain-rmse:1.29839\tval-rmse:2.80883\n",
      "[65]\ttrain-rmse:1.25735\tval-rmse:2.81647\n",
      "[70]\ttrain-rmse:1.20287\tval-rmse:2.82555\n",
      "[75]\ttrain-rmse:1.15471\tval-rmse:2.84286\n",
      "[80]\ttrain-rmse:1.09642\tval-rmse:2.84902\n",
      "[85]\ttrain-rmse:1.04835\tval-rmse:2.85853\n",
      "[90]\ttrain-rmse:1.00970\tval-rmse:2.86544\n",
      "[95]\ttrain-rmse:0.96797\tval-rmse:2.87576\n",
      "[99]\ttrain-rmse:0.93149\tval-rmse:2.88862\n",
      "eta=0.4-max_depth=6\n",
      "[0]\ttrain-rmse:2.71439\tval-rmse:2.82591\n",
      "[5]\ttrain-rmse:2.07812\tval-rmse:2.58488\n",
      "[10]\ttrain-rmse:1.86575\tval-rmse:2.63262\n",
      "[15]\ttrain-rmse:1.75086\tval-rmse:2.66110\n",
      "[20]\ttrain-rmse:1.62695\tval-rmse:2.69782\n",
      "[25]\ttrain-rmse:1.50550\tval-rmse:2.71912\n",
      "[30]\ttrain-rmse:1.38820\tval-rmse:2.75597\n",
      "[35]\ttrain-rmse:1.30805\tval-rmse:2.78063\n",
      "[40]\ttrain-rmse:1.20549\tval-rmse:2.79087\n",
      "[45]\ttrain-rmse:1.14764\tval-rmse:2.79622\n",
      "[50]\ttrain-rmse:1.07221\tval-rmse:2.80963\n",
      "[55]\ttrain-rmse:0.98091\tval-rmse:2.84168\n",
      "[60]\ttrain-rmse:0.89407\tval-rmse:2.86475\n",
      "[65]\ttrain-rmse:0.87359\tval-rmse:2.86531\n",
      "[70]\ttrain-rmse:0.82781\tval-rmse:2.87028\n",
      "[75]\ttrain-rmse:0.77820\tval-rmse:2.88065\n",
      "[80]\ttrain-rmse:0.73134\tval-rmse:2.89126\n",
      "[85]\ttrain-rmse:0.66673\tval-rmse:2.89308\n",
      "[90]\ttrain-rmse:0.62156\tval-rmse:2.90132\n",
      "[95]\ttrain-rmse:0.58339\tval-rmse:2.90767\n",
      "[99]\ttrain-rmse:0.56863\tval-rmse:2.90816\n",
      "eta=0.4-max_depth=7\n",
      "[0]\ttrain-rmse:2.66911\tval-rmse:2.84166\n",
      "[5]\ttrain-rmse:1.92823\tval-rmse:2.58609\n",
      "[10]\ttrain-rmse:1.65221\tval-rmse:2.67575\n",
      "[15]\ttrain-rmse:1.47616\tval-rmse:2.70496\n",
      "[20]\ttrain-rmse:1.31410\tval-rmse:2.72840\n",
      "[25]\ttrain-rmse:1.19241\tval-rmse:2.75964\n",
      "[30]\ttrain-rmse:1.09552\tval-rmse:2.79307\n",
      "[35]\ttrain-rmse:0.99412\tval-rmse:2.82664\n",
      "[40]\ttrain-rmse:0.86234\tval-rmse:2.84539\n",
      "[45]\ttrain-rmse:0.81075\tval-rmse:2.83960\n",
      "[50]\ttrain-rmse:0.74366\tval-rmse:2.85799\n",
      "[55]\ttrain-rmse:0.65275\tval-rmse:2.86937\n",
      "[60]\ttrain-rmse:0.60093\tval-rmse:2.87173\n",
      "[65]\ttrain-rmse:0.55134\tval-rmse:2.87969\n",
      "[70]\ttrain-rmse:0.49943\tval-rmse:2.88317\n",
      "[75]\ttrain-rmse:0.46922\tval-rmse:2.88875\n",
      "[80]\ttrain-rmse:0.42516\tval-rmse:2.89026\n",
      "[85]\ttrain-rmse:0.38524\tval-rmse:2.88875\n",
      "[90]\ttrain-rmse:0.36154\tval-rmse:2.88964\n",
      "[95]\ttrain-rmse:0.31912\tval-rmse:2.89659\n",
      "[99]\ttrain-rmse:0.30347\tval-rmse:2.89875\n",
      "eta=0.4-max_depth=8\n",
      "[0]\ttrain-rmse:2.62123\tval-rmse:2.86187\n",
      "[5]\ttrain-rmse:1.71854\tval-rmse:2.67346\n",
      "[10]\ttrain-rmse:1.35565\tval-rmse:2.76537\n",
      "[15]\ttrain-rmse:1.17187\tval-rmse:2.81052\n",
      "[20]\ttrain-rmse:1.03589\tval-rmse:2.82917\n"
     ]
    },
    {
     "name": "stdout",
     "output_type": "stream",
     "text": [
      "[25]\ttrain-rmse:0.89037\tval-rmse:2.85033\n",
      "[30]\ttrain-rmse:0.76900\tval-rmse:2.87444\n",
      "[35]\ttrain-rmse:0.67620\tval-rmse:2.88631\n",
      "[40]\ttrain-rmse:0.59935\tval-rmse:2.89688\n",
      "[45]\ttrain-rmse:0.53269\tval-rmse:2.90662\n",
      "[50]\ttrain-rmse:0.45816\tval-rmse:2.91555\n",
      "[55]\ttrain-rmse:0.40384\tval-rmse:2.91573\n",
      "[60]\ttrain-rmse:0.36415\tval-rmse:2.92094\n",
      "[65]\ttrain-rmse:0.30382\tval-rmse:2.93004\n",
      "[70]\ttrain-rmse:0.27078\tval-rmse:2.93150\n",
      "[75]\ttrain-rmse:0.22734\tval-rmse:2.93284\n",
      "[80]\ttrain-rmse:0.20114\tval-rmse:2.93400\n",
      "[85]\ttrain-rmse:0.17770\tval-rmse:2.93353\n",
      "[90]\ttrain-rmse:0.15817\tval-rmse:2.93655\n",
      "[95]\ttrain-rmse:0.14052\tval-rmse:2.93725\n",
      "[99]\ttrain-rmse:0.13117\tval-rmse:2.93870\n",
      "eta=0.4-max_depth=9\n",
      "[0]\ttrain-rmse:2.57147\tval-rmse:2.84036\n",
      "[5]\ttrain-rmse:1.56396\tval-rmse:2.69067\n",
      "[10]\ttrain-rmse:1.24264\tval-rmse:2.74362\n",
      "[15]\ttrain-rmse:0.91394\tval-rmse:2.79776\n",
      "[20]\ttrain-rmse:0.77482\tval-rmse:2.81837\n",
      "[25]\ttrain-rmse:0.67110\tval-rmse:2.82632\n",
      "[30]\ttrain-rmse:0.52434\tval-rmse:2.84821\n",
      "[35]\ttrain-rmse:0.43027\tval-rmse:2.86272\n",
      "[40]\ttrain-rmse:0.38214\tval-rmse:2.86647\n",
      "[45]\ttrain-rmse:0.32913\tval-rmse:2.87437\n",
      "[50]\ttrain-rmse:0.27538\tval-rmse:2.87781\n",
      "[55]\ttrain-rmse:0.24269\tval-rmse:2.87961\n",
      "[60]\ttrain-rmse:0.19789\tval-rmse:2.88200\n",
      "[65]\ttrain-rmse:0.16720\tval-rmse:2.88551\n",
      "[70]\ttrain-rmse:0.14219\tval-rmse:2.88399\n",
      "[75]\ttrain-rmse:0.11909\tval-rmse:2.88466\n",
      "[80]\ttrain-rmse:0.10519\tval-rmse:2.88591\n",
      "[85]\ttrain-rmse:0.09609\tval-rmse:2.88650\n",
      "[90]\ttrain-rmse:0.08179\tval-rmse:2.88623\n",
      "[95]\ttrain-rmse:0.06763\tval-rmse:2.88744\n",
      "[99]\ttrain-rmse:0.05838\tval-rmse:2.88853\n",
      "eta=0.4-max_depth=10\n",
      "[0]\ttrain-rmse:2.53140\tval-rmse:2.84745\n",
      "[5]\ttrain-rmse:1.31341\tval-rmse:2.68658\n",
      "[10]\ttrain-rmse:0.93813\tval-rmse:2.74087\n",
      "[15]\ttrain-rmse:0.75018\tval-rmse:2.77409\n",
      "[20]\ttrain-rmse:0.57441\tval-rmse:2.78292\n",
      "[25]\ttrain-rmse:0.46045\tval-rmse:2.79601\n",
      "[30]\ttrain-rmse:0.36853\tval-rmse:2.80034\n",
      "[35]\ttrain-rmse:0.29052\tval-rmse:2.80638\n",
      "[40]\ttrain-rmse:0.23375\tval-rmse:2.81153\n",
      "[45]\ttrain-rmse:0.19033\tval-rmse:2.81444\n",
      "[50]\ttrain-rmse:0.15625\tval-rmse:2.81660\n",
      "[55]\ttrain-rmse:0.12515\tval-rmse:2.81856\n",
      "[60]\ttrain-rmse:0.10058\tval-rmse:2.82063\n",
      "[65]\ttrain-rmse:0.08119\tval-rmse:2.82231\n",
      "[70]\ttrain-rmse:0.07144\tval-rmse:2.82303\n",
      "[75]\ttrain-rmse:0.05839\tval-rmse:2.82456\n",
      "[80]\ttrain-rmse:0.04340\tval-rmse:2.82564\n",
      "[85]\ttrain-rmse:0.03552\tval-rmse:2.82667\n",
      "[90]\ttrain-rmse:0.02924\tval-rmse:2.82678\n",
      "[95]\ttrain-rmse:0.02381\tval-rmse:2.82674\n",
      "[99]\ttrain-rmse:0.02076\tval-rmse:2.82699\n",
      "eta=0.5-max_depth=1\n",
      "[0]\ttrain-rmse:2.91958\tval-rmse:2.94220\n",
      "[5]\ttrain-rmse:2.59041\tval-rmse:2.59868\n",
      "[10]\ttrain-rmse:2.55158\tval-rmse:2.57994\n",
      "[15]\ttrain-rmse:2.53588\tval-rmse:2.57310\n",
      "[20]\ttrain-rmse:2.52259\tval-rmse:2.56982\n",
      "[25]\ttrain-rmse:2.51267\tval-rmse:2.56073\n",
      "[30]\ttrain-rmse:2.50547\tval-rmse:2.56348\n",
      "[35]\ttrain-rmse:2.49809\tval-rmse:2.56333\n",
      "[40]\ttrain-rmse:2.49263\tval-rmse:2.56271\n",
      "[45]\ttrain-rmse:2.48778\tval-rmse:2.56048\n",
      "[50]\ttrain-rmse:2.48325\tval-rmse:2.56129\n",
      "[55]\ttrain-rmse:2.47905\tval-rmse:2.55720\n",
      "[60]\ttrain-rmse:2.47508\tval-rmse:2.56059\n",
      "[65]\ttrain-rmse:2.47164\tval-rmse:2.55816\n",
      "[70]\ttrain-rmse:2.46838\tval-rmse:2.55562\n",
      "[75]\ttrain-rmse:2.46534\tval-rmse:2.55391\n",
      "[80]\ttrain-rmse:2.46219\tval-rmse:2.55785\n",
      "[85]\ttrain-rmse:2.45957\tval-rmse:2.55770\n",
      "[90]\ttrain-rmse:2.45707\tval-rmse:2.55693\n",
      "[95]\ttrain-rmse:2.45470\tval-rmse:2.55639\n",
      "[99]\ttrain-rmse:2.45287\tval-rmse:2.55527\n",
      "eta=0.5-max_depth=2\n",
      "[0]\ttrain-rmse:2.80448\tval-rmse:2.82946\n",
      "[5]\ttrain-rmse:2.50352\tval-rmse:2.56916\n",
      "[10]\ttrain-rmse:2.45302\tval-rmse:2.55073\n",
      "[15]\ttrain-rmse:2.41465\tval-rmse:2.55615\n",
      "[20]\ttrain-rmse:2.39051\tval-rmse:2.56742\n",
      "[25]\ttrain-rmse:2.36545\tval-rmse:2.56064\n",
      "[30]\ttrain-rmse:2.33317\tval-rmse:2.57163\n",
      "[35]\ttrain-rmse:2.30701\tval-rmse:2.57545\n",
      "[40]\ttrain-rmse:2.28514\tval-rmse:2.56860\n",
      "[45]\ttrain-rmse:2.27269\tval-rmse:2.57068\n",
      "[50]\ttrain-rmse:2.26016\tval-rmse:2.57873\n",
      "[55]\ttrain-rmse:2.24859\tval-rmse:2.58282\n",
      "[60]\ttrain-rmse:2.23233\tval-rmse:2.59517\n",
      "[65]\ttrain-rmse:2.21738\tval-rmse:2.59944\n",
      "[70]\ttrain-rmse:2.20523\tval-rmse:2.60638\n",
      "[75]\ttrain-rmse:2.19231\tval-rmse:2.61162\n",
      "[80]\ttrain-rmse:2.18088\tval-rmse:2.61800\n",
      "[85]\ttrain-rmse:2.17200\tval-rmse:2.62856\n",
      "[90]\ttrain-rmse:2.16008\tval-rmse:2.63432\n",
      "[95]\ttrain-rmse:2.14806\tval-rmse:2.63561\n",
      "[99]\ttrain-rmse:2.13857\tval-rmse:2.63950\n",
      "eta=0.5-max_depth=3\n",
      "[0]\ttrain-rmse:2.74998\tval-rmse:2.77158\n",
      "[5]\ttrain-rmse:2.44044\tval-rmse:2.55099\n",
      "[10]\ttrain-rmse:2.35317\tval-rmse:2.54401\n",
      "[15]\ttrain-rmse:2.29940\tval-rmse:2.54082\n",
      "[20]\ttrain-rmse:2.26054\tval-rmse:2.55765\n",
      "[25]\ttrain-rmse:2.21782\tval-rmse:2.56749\n",
      "[30]\ttrain-rmse:2.16273\tval-rmse:2.59705\n",
      "[35]\ttrain-rmse:2.12363\tval-rmse:2.61253\n",
      "[40]\ttrain-rmse:2.07601\tval-rmse:2.63349\n",
      "[45]\ttrain-rmse:2.04942\tval-rmse:2.65006\n",
      "[50]\ttrain-rmse:2.00874\tval-rmse:2.66917\n",
      "[55]\ttrain-rmse:1.97825\tval-rmse:2.67217\n",
      "[60]\ttrain-rmse:1.94362\tval-rmse:2.69464\n",
      "[65]\ttrain-rmse:1.91628\tval-rmse:2.71176\n",
      "[70]\ttrain-rmse:1.88740\tval-rmse:2.72096\n",
      "[75]\ttrain-rmse:1.86498\tval-rmse:2.72793\n",
      "[80]\ttrain-rmse:1.84796\tval-rmse:2.72734\n",
      "[85]\ttrain-rmse:1.81579\tval-rmse:2.73890\n",
      "[90]\ttrain-rmse:1.79284\tval-rmse:2.74275\n",
      "[95]\ttrain-rmse:1.76481\tval-rmse:2.75989\n",
      "[99]\ttrain-rmse:1.74852\tval-rmse:2.76482\n",
      "eta=0.5-max_depth=4\n",
      "[0]\ttrain-rmse:2.71136\tval-rmse:2.74569\n",
      "[5]\ttrain-rmse:2.34982\tval-rmse:2.52873\n",
      "[10]\ttrain-rmse:2.20111\tval-rmse:2.55881\n",
      "[15]\ttrain-rmse:2.11878\tval-rmse:2.60077\n",
      "[20]\ttrain-rmse:2.03257\tval-rmse:2.63842\n",
      "[25]\ttrain-rmse:1.96981\tval-rmse:2.67094\n",
      "[30]\ttrain-rmse:1.90064\tval-rmse:2.68481\n",
      "[35]\ttrain-rmse:1.83870\tval-rmse:2.68788\n",
      "[40]\ttrain-rmse:1.77172\tval-rmse:2.70433\n",
      "[45]\ttrain-rmse:1.70590\tval-rmse:2.73196\n",
      "[50]\ttrain-rmse:1.66024\tval-rmse:2.75229\n",
      "[55]\ttrain-rmse:1.60665\tval-rmse:2.76357\n",
      "[60]\ttrain-rmse:1.56655\tval-rmse:2.77634\n",
      "[65]\ttrain-rmse:1.52041\tval-rmse:2.80165\n",
      "[70]\ttrain-rmse:1.48398\tval-rmse:2.80406\n",
      "[75]\ttrain-rmse:1.45213\tval-rmse:2.82856\n",
      "[80]\ttrain-rmse:1.41087\tval-rmse:2.83259\n",
      "[85]\ttrain-rmse:1.37024\tval-rmse:2.83578\n",
      "[90]\ttrain-rmse:1.33958\tval-rmse:2.84923\n",
      "[95]\ttrain-rmse:1.30150\tval-rmse:2.87245\n",
      "[99]\ttrain-rmse:1.26667\tval-rmse:2.88302\n",
      "eta=0.5-max_depth=5\n",
      "[0]\ttrain-rmse:2.67307\tval-rmse:2.76757\n",
      "[5]\ttrain-rmse:2.16123\tval-rmse:2.62413\n",
      "[10]\ttrain-rmse:1.99677\tval-rmse:2.68412\n",
      "[15]\ttrain-rmse:1.85549\tval-rmse:2.73543\n",
      "[20]\ttrain-rmse:1.77408\tval-rmse:2.75394\n",
      "[25]\ttrain-rmse:1.63695\tval-rmse:2.80135\n",
      "[30]\ttrain-rmse:1.57019\tval-rmse:2.81747\n",
      "[35]\ttrain-rmse:1.47550\tval-rmse:2.82470\n",
      "[40]\ttrain-rmse:1.38656\tval-rmse:2.84031\n",
      "[45]\ttrain-rmse:1.30463\tval-rmse:2.86725\n",
      "[50]\ttrain-rmse:1.24728\tval-rmse:2.89029\n",
      "[55]\ttrain-rmse:1.20086\tval-rmse:2.89954\n",
      "[60]\ttrain-rmse:1.11865\tval-rmse:2.91348\n",
      "[65]\ttrain-rmse:1.07656\tval-rmse:2.91775\n",
      "[70]\ttrain-rmse:1.01640\tval-rmse:2.94743\n",
      "[75]\ttrain-rmse:0.97269\tval-rmse:2.95036\n",
      "[80]\ttrain-rmse:0.92143\tval-rmse:2.96972\n",
      "[85]\ttrain-rmse:0.88009\tval-rmse:2.97861\n",
      "[90]\ttrain-rmse:0.84407\tval-rmse:2.98197\n",
      "[95]\ttrain-rmse:0.80974\tval-rmse:2.98420\n",
      "[99]\ttrain-rmse:0.78151\tval-rmse:2.98804\n",
      "eta=0.5-max_depth=6\n",
      "[0]\ttrain-rmse:2.61145\tval-rmse:2.75309\n",
      "[5]\ttrain-rmse:2.01514\tval-rmse:2.57511\n",
      "[10]\ttrain-rmse:1.82656\tval-rmse:2.60754\n",
      "[15]\ttrain-rmse:1.68927\tval-rmse:2.65612\n",
      "[20]\ttrain-rmse:1.54410\tval-rmse:2.68359\n",
      "[25]\ttrain-rmse:1.37508\tval-rmse:2.74892\n",
      "[30]\ttrain-rmse:1.27492\tval-rmse:2.74999\n",
      "[35]\ttrain-rmse:1.15247\tval-rmse:2.77851\n",
      "[40]\ttrain-rmse:1.07444\tval-rmse:2.80073\n",
      "[45]\ttrain-rmse:0.95619\tval-rmse:2.81794\n",
      "[50]\ttrain-rmse:0.88454\tval-rmse:2.82752\n",
      "[55]\ttrain-rmse:0.82457\tval-rmse:2.83725\n",
      "[60]\ttrain-rmse:0.76730\tval-rmse:2.85428\n",
      "[65]\ttrain-rmse:0.70656\tval-rmse:2.86495\n",
      "[70]\ttrain-rmse:0.65024\tval-rmse:2.87838\n",
      "[75]\ttrain-rmse:0.60762\tval-rmse:2.87875\n",
      "[80]\ttrain-rmse:0.55260\tval-rmse:2.88339\n",
      "[85]\ttrain-rmse:0.50392\tval-rmse:2.89396\n",
      "[90]\ttrain-rmse:0.46985\tval-rmse:2.90013\n",
      "[95]\ttrain-rmse:0.42987\tval-rmse:2.90202\n",
      "[99]\ttrain-rmse:0.40637\tval-rmse:2.90900\n",
      "eta=0.5-max_depth=7\n",
      "[0]\ttrain-rmse:2.55481\tval-rmse:2.77438\n",
      "[5]\ttrain-rmse:1.87996\tval-rmse:2.66171\n",
      "[10]\ttrain-rmse:1.53365\tval-rmse:2.71175\n",
      "[15]\ttrain-rmse:1.34834\tval-rmse:2.77466\n",
      "[20]\ttrain-rmse:1.12424\tval-rmse:2.81224\n",
      "[25]\ttrain-rmse:0.95352\tval-rmse:2.87444\n",
      "[30]\ttrain-rmse:0.85112\tval-rmse:2.88768\n",
      "[35]\ttrain-rmse:0.74381\tval-rmse:2.89766\n",
      "[40]\ttrain-rmse:0.69403\tval-rmse:2.90133\n",
      "[45]\ttrain-rmse:0.59556\tval-rmse:2.91146\n",
      "[50]\ttrain-rmse:0.51942\tval-rmse:2.92359\n"
     ]
    },
    {
     "name": "stdout",
     "output_type": "stream",
     "text": [
      "[55]\ttrain-rmse:0.44907\tval-rmse:2.93298\n",
      "[60]\ttrain-rmse:0.40063\tval-rmse:2.93725\n",
      "[65]\ttrain-rmse:0.36471\tval-rmse:2.94703\n",
      "[70]\ttrain-rmse:0.32189\tval-rmse:2.94988\n",
      "[75]\ttrain-rmse:0.28754\tval-rmse:2.95317\n",
      "[80]\ttrain-rmse:0.25081\tval-rmse:2.95313\n",
      "[85]\ttrain-rmse:0.22540\tval-rmse:2.95521\n",
      "[90]\ttrain-rmse:0.20387\tval-rmse:2.95649\n",
      "[95]\ttrain-rmse:0.18806\tval-rmse:2.95609\n",
      "[99]\ttrain-rmse:0.16699\tval-rmse:2.95799\n",
      "eta=0.5-max_depth=8\n",
      "[0]\ttrain-rmse:2.49448\tval-rmse:2.80302\n",
      "[5]\ttrain-rmse:1.55839\tval-rmse:2.75633\n",
      "[10]\ttrain-rmse:1.26350\tval-rmse:2.81314\n",
      "[15]\ttrain-rmse:1.03661\tval-rmse:2.87418\n",
      "[20]\ttrain-rmse:0.83643\tval-rmse:2.88741\n",
      "[25]\ttrain-rmse:0.72983\tval-rmse:2.91455\n",
      "[30]\ttrain-rmse:0.62897\tval-rmse:2.92470\n",
      "[35]\ttrain-rmse:0.54101\tval-rmse:2.93804\n",
      "[40]\ttrain-rmse:0.45356\tval-rmse:2.93968\n",
      "[45]\ttrain-rmse:0.36489\tval-rmse:2.95010\n",
      "[50]\ttrain-rmse:0.30454\tval-rmse:2.95607\n",
      "[55]\ttrain-rmse:0.25448\tval-rmse:2.95694\n",
      "[60]\ttrain-rmse:0.22175\tval-rmse:2.96154\n",
      "[65]\ttrain-rmse:0.18726\tval-rmse:2.96481\n",
      "[70]\ttrain-rmse:0.15289\tval-rmse:2.96884\n",
      "[75]\ttrain-rmse:0.12507\tval-rmse:2.97064\n",
      "[80]\ttrain-rmse:0.10529\tval-rmse:2.97256\n",
      "[85]\ttrain-rmse:0.09036\tval-rmse:2.97252\n",
      "[90]\ttrain-rmse:0.07602\tval-rmse:2.97285\n",
      "[95]\ttrain-rmse:0.06375\tval-rmse:2.97490\n",
      "[99]\ttrain-rmse:0.05574\tval-rmse:2.97570\n",
      "eta=0.5-max_depth=9\n",
      "[0]\ttrain-rmse:2.43188\tval-rmse:2.77751\n",
      "[5]\ttrain-rmse:1.29928\tval-rmse:2.69458\n",
      "[10]\ttrain-rmse:0.98790\tval-rmse:2.73368\n",
      "[15]\ttrain-rmse:0.82795\tval-rmse:2.77193\n",
      "[20]\ttrain-rmse:0.64516\tval-rmse:2.80250\n",
      "[25]\ttrain-rmse:0.46330\tval-rmse:2.80034\n",
      "[30]\ttrain-rmse:0.37107\tval-rmse:2.80989\n",
      "[35]\ttrain-rmse:0.29839\tval-rmse:2.80796\n",
      "[40]\ttrain-rmse:0.26097\tval-rmse:2.80885\n",
      "[45]\ttrain-rmse:0.20612\tval-rmse:2.81573\n",
      "[50]\ttrain-rmse:0.15426\tval-rmse:2.82194\n",
      "[55]\ttrain-rmse:0.12594\tval-rmse:2.82683\n",
      "[60]\ttrain-rmse:0.11055\tval-rmse:2.82855\n",
      "[65]\ttrain-rmse:0.08560\tval-rmse:2.83087\n",
      "[70]\ttrain-rmse:0.07123\tval-rmse:2.83172\n",
      "[75]\ttrain-rmse:0.06114\tval-rmse:2.83232\n",
      "[80]\ttrain-rmse:0.04891\tval-rmse:2.83317\n",
      "[85]\ttrain-rmse:0.04023\tval-rmse:2.83344\n",
      "[90]\ttrain-rmse:0.03304\tval-rmse:2.83376\n",
      "[95]\ttrain-rmse:0.02305\tval-rmse:2.83422\n",
      "[99]\ttrain-rmse:0.02116\tval-rmse:2.83436\n",
      "eta=0.5-max_depth=10\n",
      "[0]\ttrain-rmse:2.38056\tval-rmse:2.78913\n",
      "[5]\ttrain-rmse:1.15980\tval-rmse:2.77855\n",
      "[10]\ttrain-rmse:0.75927\tval-rmse:2.83516\n",
      "[15]\ttrain-rmse:0.58954\tval-rmse:2.85050\n",
      "[20]\ttrain-rmse:0.40861\tval-rmse:2.85854\n",
      "[25]\ttrain-rmse:0.33664\tval-rmse:2.87246\n",
      "[30]\ttrain-rmse:0.24172\tval-rmse:2.87905\n",
      "[35]\ttrain-rmse:0.19660\tval-rmse:2.88012\n",
      "[40]\ttrain-rmse:0.15383\tval-rmse:2.88194\n",
      "[45]\ttrain-rmse:0.10884\tval-rmse:2.88657\n",
      "[50]\ttrain-rmse:0.08698\tval-rmse:2.88874\n",
      "[55]\ttrain-rmse:0.06379\tval-rmse:2.89068\n",
      "[60]\ttrain-rmse:0.05021\tval-rmse:2.89137\n",
      "[65]\ttrain-rmse:0.03591\tval-rmse:2.89263\n",
      "[70]\ttrain-rmse:0.02626\tval-rmse:2.89260\n",
      "[75]\ttrain-rmse:0.02195\tval-rmse:2.89334\n",
      "[80]\ttrain-rmse:0.01814\tval-rmse:2.89371\n",
      "[85]\ttrain-rmse:0.01499\tval-rmse:2.89394\n",
      "[90]\ttrain-rmse:0.01118\tval-rmse:2.89423\n",
      "[95]\ttrain-rmse:0.00787\tval-rmse:2.89431\n",
      "[99]\ttrain-rmse:0.00664\tval-rmse:2.89439\n"
     ]
    }
   ],
   "source": [
    "scores = {}\n",
    "\n",
    "for eta in ['0.1', '0.2', '0.3', '0.4', '0.5']:\n",
    "    for max_depth in range(1, 11):\n",
    "        key = f'eta={eta}-max_depth={max_depth}'\n",
    "        print(key)\n",
    "        xgb_params = {\n",
    "            'eta': eta, \n",
    "            'max_depth': max_depth,\n",
    "            'min_child_weight': 1,\n",
    "\n",
    "            'objective': 'reg:squarederror',\n",
    "            'nthread': 8,\n",
    "\n",
    "            'seed': 1,\n",
    "            'verbosity': 1,\n",
    "        }\n",
    "\n",
    "        model = xgb.train(xgb_params, dtrain, num_boost_round=100,\n",
    "                          verbose_eval=5,\n",
    "                          evals=watchlist)\n",
    "        \n",
    "        y_pred = model.predict(dval)\n",
    "        score = rmse(y_val, y_pred)\n",
    "        \n",
    "        scores[key] = score\n",
    "        "
   ]
  },
  {
   "cell_type": "code",
   "execution_count": 138,
   "metadata": {},
   "outputs": [],
   "source": [
    "df_score = pd.DataFrame.from_dict(scores, orient='index', columns=['score'])"
   ]
  },
  {
   "cell_type": "code",
   "execution_count": 139,
   "metadata": {
    "scrolled": true
   },
   "outputs": [
    {
     "data": {
      "text/html": [
       "<div>\n",
       "<style scoped>\n",
       "    .dataframe tbody tr th:only-of-type {\n",
       "        vertical-align: middle;\n",
       "    }\n",
       "\n",
       "    .dataframe tbody tr th {\n",
       "        vertical-align: top;\n",
       "    }\n",
       "\n",
       "    .dataframe thead th {\n",
       "        text-align: right;\n",
       "    }\n",
       "</style>\n",
       "<table border=\"1\" class=\"dataframe\">\n",
       "  <thead>\n",
       "    <tr style=\"text-align: right;\">\n",
       "      <th></th>\n",
       "      <th>score</th>\n",
       "    </tr>\n",
       "  </thead>\n",
       "  <tbody>\n",
       "    <tr>\n",
       "      <th>eta=0.1-max_depth=2</th>\n",
       "      <td>2.529173</td>\n",
       "    </tr>\n",
       "    <tr>\n",
       "      <th>eta=0.1-max_depth=3</th>\n",
       "      <td>2.532838</td>\n",
       "    </tr>\n",
       "    <tr>\n",
       "      <th>eta=0.2-max_depth=2</th>\n",
       "      <td>2.544346</td>\n",
       "    </tr>\n",
       "    <tr>\n",
       "      <th>eta=0.2-max_depth=1</th>\n",
       "      <td>2.550131</td>\n",
       "    </tr>\n",
       "    <tr>\n",
       "      <th>eta=0.3-max_depth=1</th>\n",
       "      <td>2.551840</td>\n",
       "    </tr>\n",
       "    <tr>\n",
       "      <th>eta=0.1-max_depth=1</th>\n",
       "      <td>2.554257</td>\n",
       "    </tr>\n",
       "    <tr>\n",
       "      <th>eta=0.5-max_depth=1</th>\n",
       "      <td>2.555268</td>\n",
       "    </tr>\n",
       "    <tr>\n",
       "      <th>eta=0.1-max_depth=4</th>\n",
       "      <td>2.555538</td>\n",
       "    </tr>\n",
       "    <tr>\n",
       "      <th>eta=0.4-max_depth=1</th>\n",
       "      <td>2.559120</td>\n",
       "    </tr>\n",
       "    <tr>\n",
       "      <th>eta=0.3-max_depth=2</th>\n",
       "      <td>2.563320</td>\n",
       "    </tr>\n",
       "    <tr>\n",
       "      <th>eta=0.2-max_depth=3</th>\n",
       "      <td>2.573854</td>\n",
       "    </tr>\n",
       "    <tr>\n",
       "      <th>eta=0.4-max_depth=2</th>\n",
       "      <td>2.586294</td>\n",
       "    </tr>\n",
       "    <tr>\n",
       "      <th>eta=0.1-max_depth=5</th>\n",
       "      <td>2.601707</td>\n",
       "    </tr>\n",
       "    <tr>\n",
       "      <th>eta=0.3-max_depth=3</th>\n",
       "      <td>2.606122</td>\n",
       "    </tr>\n",
       "    <tr>\n",
       "      <th>eta=0.1-max_depth=6</th>\n",
       "      <td>2.616880</td>\n",
       "    </tr>\n",
       "    <tr>\n",
       "      <th>eta=0.5-max_depth=2</th>\n",
       "      <td>2.639496</td>\n",
       "    </tr>\n",
       "    <tr>\n",
       "      <th>eta=0.2-max_depth=4</th>\n",
       "      <td>2.641259</td>\n",
       "    </tr>\n",
       "    <tr>\n",
       "      <th>eta=0.1-max_depth=7</th>\n",
       "      <td>2.666790</td>\n",
       "    </tr>\n",
       "    <tr>\n",
       "      <th>eta=0.3-max_depth=4</th>\n",
       "      <td>2.679782</td>\n",
       "    </tr>\n",
       "    <tr>\n",
       "      <th>eta=0.1-max_depth=8</th>\n",
       "      <td>2.683996</td>\n",
       "    </tr>\n",
       "    <tr>\n",
       "      <th>eta=0.4-max_depth=3</th>\n",
       "      <td>2.686615</td>\n",
       "    </tr>\n",
       "    <tr>\n",
       "      <th>eta=0.2-max_depth=5</th>\n",
       "      <td>2.688856</td>\n",
       "    </tr>\n",
       "    <tr>\n",
       "      <th>eta=0.4-max_depth=4</th>\n",
       "      <td>2.713547</td>\n",
       "    </tr>\n",
       "    <tr>\n",
       "      <th>eta=0.2-max_depth=6</th>\n",
       "      <td>2.715343</td>\n",
       "    </tr>\n",
       "    <tr>\n",
       "      <th>eta=0.1-max_depth=9</th>\n",
       "      <td>2.715607</td>\n",
       "    </tr>\n",
       "    <tr>\n",
       "      <th>eta=0.3-max_depth=5</th>\n",
       "      <td>2.733924</td>\n",
       "    </tr>\n",
       "    <tr>\n",
       "      <th>eta=0.1-max_depth=10</th>\n",
       "      <td>2.745516</td>\n",
       "    </tr>\n",
       "    <tr>\n",
       "      <th>eta=0.2-max_depth=9</th>\n",
       "      <td>2.754520</td>\n",
       "    </tr>\n",
       "    <tr>\n",
       "      <th>eta=0.5-max_depth=3</th>\n",
       "      <td>2.764825</td>\n",
       "    </tr>\n",
       "    <tr>\n",
       "      <th>eta=0.2-max_depth=10</th>\n",
       "      <td>2.765051</td>\n",
       "    </tr>\n",
       "    <tr>\n",
       "      <th>eta=0.2-max_depth=7</th>\n",
       "      <td>2.769052</td>\n",
       "    </tr>\n",
       "    <tr>\n",
       "      <th>eta=0.2-max_depth=8</th>\n",
       "      <td>2.788541</td>\n",
       "    </tr>\n",
       "    <tr>\n",
       "      <th>eta=0.3-max_depth=10</th>\n",
       "      <td>2.804499</td>\n",
       "    </tr>\n",
       "    <tr>\n",
       "      <th>eta=0.3-max_depth=7</th>\n",
       "      <td>2.812614</td>\n",
       "    </tr>\n",
       "    <tr>\n",
       "      <th>eta=0.3-max_depth=6</th>\n",
       "      <td>2.823736</td>\n",
       "    </tr>\n",
       "    <tr>\n",
       "      <th>eta=0.3-max_depth=9</th>\n",
       "      <td>2.826602</td>\n",
       "    </tr>\n",
       "    <tr>\n",
       "      <th>eta=0.4-max_depth=10</th>\n",
       "      <td>2.826993</td>\n",
       "    </tr>\n",
       "    <tr>\n",
       "      <th>eta=0.3-max_depth=8</th>\n",
       "      <td>2.832785</td>\n",
       "    </tr>\n",
       "    <tr>\n",
       "      <th>eta=0.5-max_depth=9</th>\n",
       "      <td>2.834358</td>\n",
       "    </tr>\n",
       "    <tr>\n",
       "      <th>eta=0.5-max_depth=4</th>\n",
       "      <td>2.883018</td>\n",
       "    </tr>\n",
       "    <tr>\n",
       "      <th>eta=0.4-max_depth=9</th>\n",
       "      <td>2.888525</td>\n",
       "    </tr>\n",
       "    <tr>\n",
       "      <th>eta=0.4-max_depth=5</th>\n",
       "      <td>2.888623</td>\n",
       "    </tr>\n",
       "    <tr>\n",
       "      <th>eta=0.5-max_depth=10</th>\n",
       "      <td>2.894391</td>\n",
       "    </tr>\n",
       "    <tr>\n",
       "      <th>eta=0.4-max_depth=7</th>\n",
       "      <td>2.898747</td>\n",
       "    </tr>\n",
       "    <tr>\n",
       "      <th>eta=0.4-max_depth=6</th>\n",
       "      <td>2.908163</td>\n",
       "    </tr>\n",
       "    <tr>\n",
       "      <th>eta=0.5-max_depth=6</th>\n",
       "      <td>2.909001</td>\n",
       "    </tr>\n",
       "    <tr>\n",
       "      <th>eta=0.4-max_depth=8</th>\n",
       "      <td>2.938701</td>\n",
       "    </tr>\n",
       "    <tr>\n",
       "      <th>eta=0.5-max_depth=7</th>\n",
       "      <td>2.957990</td>\n",
       "    </tr>\n",
       "    <tr>\n",
       "      <th>eta=0.5-max_depth=8</th>\n",
       "      <td>2.975703</td>\n",
       "    </tr>\n",
       "    <tr>\n",
       "      <th>eta=0.5-max_depth=5</th>\n",
       "      <td>2.988036</td>\n",
       "    </tr>\n",
       "  </tbody>\n",
       "</table>\n",
       "</div>"
      ],
      "text/plain": [
       "                         score\n",
       "eta=0.1-max_depth=2   2.529173\n",
       "eta=0.1-max_depth=3   2.532838\n",
       "eta=0.2-max_depth=2   2.544346\n",
       "eta=0.2-max_depth=1   2.550131\n",
       "eta=0.3-max_depth=1   2.551840\n",
       "eta=0.1-max_depth=1   2.554257\n",
       "eta=0.5-max_depth=1   2.555268\n",
       "eta=0.1-max_depth=4   2.555538\n",
       "eta=0.4-max_depth=1   2.559120\n",
       "eta=0.3-max_depth=2   2.563320\n",
       "eta=0.2-max_depth=3   2.573854\n",
       "eta=0.4-max_depth=2   2.586294\n",
       "eta=0.1-max_depth=5   2.601707\n",
       "eta=0.3-max_depth=3   2.606122\n",
       "eta=0.1-max_depth=6   2.616880\n",
       "eta=0.5-max_depth=2   2.639496\n",
       "eta=0.2-max_depth=4   2.641259\n",
       "eta=0.1-max_depth=7   2.666790\n",
       "eta=0.3-max_depth=4   2.679782\n",
       "eta=0.1-max_depth=8   2.683996\n",
       "eta=0.4-max_depth=3   2.686615\n",
       "eta=0.2-max_depth=5   2.688856\n",
       "eta=0.4-max_depth=4   2.713547\n",
       "eta=0.2-max_depth=6   2.715343\n",
       "eta=0.1-max_depth=9   2.715607\n",
       "eta=0.3-max_depth=5   2.733924\n",
       "eta=0.1-max_depth=10  2.745516\n",
       "eta=0.2-max_depth=9   2.754520\n",
       "eta=0.5-max_depth=3   2.764825\n",
       "eta=0.2-max_depth=10  2.765051\n",
       "eta=0.2-max_depth=7   2.769052\n",
       "eta=0.2-max_depth=8   2.788541\n",
       "eta=0.3-max_depth=10  2.804499\n",
       "eta=0.3-max_depth=7   2.812614\n",
       "eta=0.3-max_depth=6   2.823736\n",
       "eta=0.3-max_depth=9   2.826602\n",
       "eta=0.4-max_depth=10  2.826993\n",
       "eta=0.3-max_depth=8   2.832785\n",
       "eta=0.5-max_depth=9   2.834358\n",
       "eta=0.5-max_depth=4   2.883018\n",
       "eta=0.4-max_depth=9   2.888525\n",
       "eta=0.4-max_depth=5   2.888623\n",
       "eta=0.5-max_depth=10  2.894391\n",
       "eta=0.4-max_depth=7   2.898747\n",
       "eta=0.4-max_depth=6   2.908163\n",
       "eta=0.5-max_depth=6   2.909001\n",
       "eta=0.4-max_depth=8   2.938701\n",
       "eta=0.5-max_depth=7   2.957990\n",
       "eta=0.5-max_depth=8   2.975703\n",
       "eta=0.5-max_depth=5   2.988036"
      ]
     },
     "execution_count": 139,
     "metadata": {},
     "output_type": "execute_result"
    }
   ],
   "source": [
    "df_score.sort_values(by='score')"
   ]
  },
  {
   "cell_type": "code",
   "execution_count": 142,
   "metadata": {},
   "outputs": [],
   "source": [
    "filter_col = ['height', 'weight', 'density', 'bmi', 'diameter', 'length', 'sex']\n",
    "dv = DictVectorizer(sparse = False)\n",
    "X_full_train = dv.fit_transform(df_full_train[filter_col].to_dict(orient='records'))\n",
    "X_test = dv.transform(df_test[filter_col].to_dict(orient='records'))\n",
    "features = dv.get_feature_names_out().tolist()"
   ]
  },
  {
   "cell_type": "code",
   "execution_count": 143,
   "metadata": {},
   "outputs": [],
   "source": [
    "dfulltrain = xgb.DMatrix(X_full_train, label=y_full_train, feature_names=features)\n",
    "dtest = xgb.DMatrix(X_test, label=y_test, feature_names=features)"
   ]
  },
  {
   "cell_type": "code",
   "execution_count": 144,
   "metadata": {},
   "outputs": [],
   "source": [
    "xgb_params = {\n",
    "    'eta': 0.1, \n",
    "    'max_depth': 3,\n",
    "    'min_child_weight': 1,\n",
    "    \n",
    "    'objective': 'reg:squarederror',\n",
    "    'nthread': 8,\n",
    "    \n",
    "    'seed': 1,\n",
    "    'verbosity': 1,\n",
    "}\n",
    "\n",
    "model = xgb.train(xgb_params, dfulltrain, num_boost_round=1000,\n",
    "                  verbose_eval=50)"
   ]
  },
  {
   "cell_type": "code",
   "execution_count": 145,
   "metadata": {},
   "outputs": [
    {
     "data": {
      "text/plain": [
       "1.6416686128610172"
      ]
     },
     "execution_count": 145,
     "metadata": {},
     "output_type": "execute_result"
    }
   ],
   "source": [
    "y_pred = model.predict(dfulltrain)\n",
    "score_val = rmse(y_full_train, y_pred)\n",
    "score_val"
   ]
  },
  {
   "cell_type": "code",
   "execution_count": 146,
   "metadata": {},
   "outputs": [
    {
     "data": {
      "text/plain": [
       "2.553660314388681"
      ]
     },
     "execution_count": 146,
     "metadata": {},
     "output_type": "execute_result"
    }
   ],
   "source": [
    "y_pred = model.predict(dtest)\n",
    "score_test = rmse(y_test.round(0), y_pred.round(0))\n",
    "score_test"
   ]
  },
  {
   "cell_type": "code",
   "execution_count": 171,
   "metadata": {},
   "outputs": [
    {
     "data": {
      "text/plain": [
       "(5, 5.0)"
      ]
     },
     "execution_count": 171,
     "metadata": {},
     "output_type": "execute_result"
    }
   ],
   "source": [
    "y_test[12], y_pred[12].round(0)"
   ]
  },
  {
   "cell_type": "code",
   "execution_count": 157,
   "metadata": {},
   "outputs": [
    {
     "data": {
      "text/plain": [
       "<matplotlib.legend.Legend at 0x1eb45f526d0>"
      ]
     },
     "execution_count": 157,
     "metadata": {},
     "output_type": "execute_result"
    },
    {
     "data": {
      "image/png": "[encoded data removed]",
      "text/plain": [
       "<Figure size 432x288 with 1 Axes>"
      ]
     },
     "metadata": {
      "needs_background": "light"
     },
     "output_type": "display_data"
    }
   ],
   "source": [
    "ax = sns.histplot(y_test, bins=20, label = \"Test Data\")\n",
    "ax = sns.histplot(y_pred.round(0), bins=15, color='orange', label = \"Prediction\")\n",
    "ax.legend()"
   ]
  },
  {
   "cell_type": "code",
   "execution_count": 149,
   "metadata": {},
   "outputs": [
    {
     "data": {
      "text/plain": [
       "(9, 11.0)"
      ]
     },
     "execution_count": 149,
     "metadata": {},
     "output_type": "execute_result"
    }
   ],
   "source": [
    "import statistics\n",
    "statistics.mode(y_test), statistics.mode(y_pred.round(0))"
   ]
  },
  {
   "cell_type": "code",
   "execution_count": 158,
   "metadata": {},
   "outputs": [
    {
     "data": {
      "image/png": "[encoded data removed]",
      "text/plain": [
       "<Figure size 2160x2160 with 1 Axes>"
      ]
     },
     "metadata": {
      "needs_background": "light"
     },
     "output_type": "display_data"
    }
   ],
   "source": [
    "from xgboost import plot_tree\n",
    "_, ax = plt.subplots(figsize=(30,30))\n",
    "plot_tree(model, fontsize=10, ax=ax)\n",
    "plt.show()"
   ]
  },
  {
   "cell_type": "markdown",
   "metadata": {},
   "source": [
    "## Test API"
   ]
  },
  {
   "cell_type": "code",
   "execution_count": 174,
   "metadata": {},
   "outputs": [],
   "source": [
    "import requests\n",
    "url = 'http://0.0.0.0:9696/predict'"
   ]
  },
  {
   "cell_type": "code",
   "execution_count": 181,
   "metadata": {},
   "outputs": [],
   "source": [
    "crab_info_1 = {\n",
    "    'height': 0.14478,\n",
    "     'weight': 1.199111356806713,\n",
    "     'density': 39.376091640190154,\n",
    "     'bmi': 57.20610404133722,\n",
    "     'diameter': 0.40005,\n",
    "     'length': 0.52578,\n",
    "     'sex': 'F'\n",
    "}"
   ]
  },
  {
   "cell_type": "code",
   "execution_count": 182,
   "metadata": {},
   "outputs": [],
   "source": [
    "crab_info_2 = {\n",
    "    'height': 0.045720000000000004,\n",
    "     'weight': 0.07956569994897092,\n",
    "     'density': 58.42414401372047,\n",
    "     'bmi': 38.06391406637903,\n",
    "     'diameter': 0.14478,\n",
    "     'length': 0.20574000000000003,\n",
    "     'sex': 'I'\n",
    "}"
   ]
  },
  {
   "cell_type": "code",
   "execution_count": 183,
   "metadata": {},
   "outputs": [
    {
     "data": {
      "text/plain": [
       "{'crab_age': 11.5, 'harvest': True}"
      ]
     },
     "execution_count": 183,
     "metadata": {},
     "output_type": "execute_result"
    }
   ],
   "source": [
    "r = requests.post(url, json=crab_info_1).json()\n",
    "r"
   ]
  },
  {
   "cell_type": "code",
   "execution_count": 178,
   "metadata": {},
   "outputs": [],
   "source": [
    "url = 'https://crab-age-234gh2nz6a-rj.a.run.app/predict'"
   ]
  },
  {
   "cell_type": "code",
   "execution_count": 184,
   "metadata": {},
   "outputs": [
    {
     "data": {
      "text/plain": [
       "{'crab_age': 5.5, 'harvest': False}"
      ]
     },
     "execution_count": 184,
     "metadata": {},
     "output_type": "execute_result"
    }
   ],
   "source": [
    "r = requests.post(url, json=crab_info_2).json()\n",
    "r"
   ]
  }
 ],
 "metadata": {
  "kernelspec": {
   "display_name": "Python 3",
   "language": "python",
   "name": "python3"
  },
  "language_info": {
   "codemirror_mode": {
    "name": "ipython",
    "version": 3
   },
   "file_extension": ".py",
   "mimetype": "text/x-python",
   "name": "python",
   "nbconvert_exporter": "python",
   "pygments_lexer": "ipython3",
   "version": "3.8.5"
  }
 },
 "nbformat": 4,
 "nbformat_minor": 4
}
